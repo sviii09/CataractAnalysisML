{
  "nbformat": 4,
  "nbformat_minor": 0,
  "metadata": {
    "colab": {
      "provenance": [],
      "gpuType": "T4",
      "include_colab_link": true
    },
    "kernelspec": {
      "name": "python3",
      "display_name": "Python 3"
    },
    "language_info": {
      "name": "python"
    },
    "accelerator": "GPU"
  },
  "cells": [
    {
      "cell_type": "markdown",
      "metadata": {
        "id": "view-in-github",
        "colab_type": "text"
      },
      "source": [
        "<a href=\"https://colab.research.google.com/github/sviii09/CataractAnalysisML/blob/main/Cataract_detection(yolo11m).ipynb\" target=\"_parent\"><img src=\"https://colab.research.google.com/assets/colab-badge.svg\" alt=\"Open In Colab\"/></a>"
      ]
    },
    {
      "cell_type": "code",
      "source": [
        "from google.colab import drive\n",
        "drive.mount('/content/drive')"
      ],
      "metadata": {
        "id": "rrnRdl2Hbi6P",
        "colab": {
          "base_uri": "https://localhost:8080/"
        },
        "outputId": "116c6260-725a-4f54-c1be-70a37aef175d"
      },
      "execution_count": null,
      "outputs": [
        {
          "output_type": "stream",
          "name": "stdout",
          "text": [
            "Drive already mounted at /content/drive; to attempt to forcibly remount, call drive.mount(\"/content/drive\", force_remount=True).\n"
          ]
        }
      ]
    },
    {
      "cell_type": "code",
      "source": [
        "!pip install roboflow ultralytics --upgrade"
      ],
      "metadata": {
        "colab": {
          "base_uri": "https://localhost:8080/"
        },
        "id": "ak6izY8CNCLp",
        "outputId": "cd8932d5-1f71-49ee-bd84-9c9b9799cd87"
      },
      "execution_count": null,
      "outputs": [
        {
          "output_type": "stream",
          "name": "stdout",
          "text": [
            "Collecting roboflow\n",
            "  Downloading roboflow-1.2.2-py3-none-any.whl.metadata (9.7 kB)\n",
            "Collecting ultralytics\n",
            "  Downloading ultralytics-8.3.169-py3-none-any.whl.metadata (37 kB)\n",
            "Requirement already satisfied: certifi in /usr/local/lib/python3.11/dist-packages (from roboflow) (2025.7.14)\n",
            "Collecting idna==3.7 (from roboflow)\n",
            "  Downloading idna-3.7-py3-none-any.whl.metadata (9.9 kB)\n",
            "Requirement already satisfied: cycler in /usr/local/lib/python3.11/dist-packages (from roboflow) (0.12.1)\n",
            "Requirement already satisfied: kiwisolver>=1.3.1 in /usr/local/lib/python3.11/dist-packages (from roboflow) (1.4.8)\n",
            "Requirement already satisfied: matplotlib in /usr/local/lib/python3.11/dist-packages (from roboflow) (3.10.0)\n",
            "Requirement already satisfied: numpy>=1.18.5 in /usr/local/lib/python3.11/dist-packages (from roboflow) (2.0.2)\n",
            "Collecting opencv-python-headless==4.10.0.84 (from roboflow)\n",
            "  Downloading opencv_python_headless-4.10.0.84-cp37-abi3-manylinux_2_17_x86_64.manylinux2014_x86_64.whl.metadata (20 kB)\n",
            "Requirement already satisfied: Pillow>=7.1.2 in /usr/local/lib/python3.11/dist-packages (from roboflow) (11.3.0)\n",
            "Collecting pillow-heif<2 (from roboflow)\n",
            "  Downloading pillow_heif-1.0.0-cp311-cp311-manylinux_2_17_x86_64.manylinux2014_x86_64.whl.metadata (9.6 kB)\n",
            "Collecting pillow-avif-plugin<2 (from roboflow)\n",
            "  Downloading pillow_avif_plugin-1.5.2-cp311-cp311-manylinux_2_28_x86_64.whl.metadata (2.1 kB)\n",
            "Requirement already satisfied: python-dateutil in /usr/local/lib/python3.11/dist-packages (from roboflow) (2.9.0.post0)\n",
            "Collecting python-dotenv (from roboflow)\n",
            "  Downloading python_dotenv-1.1.1-py3-none-any.whl.metadata (24 kB)\n",
            "Requirement already satisfied: requests in /usr/local/lib/python3.11/dist-packages (from roboflow) (2.32.3)\n",
            "Requirement already satisfied: six in /usr/local/lib/python3.11/dist-packages (from roboflow) (1.17.0)\n",
            "Requirement already satisfied: urllib3>=1.26.6 in /usr/local/lib/python3.11/dist-packages (from roboflow) (2.5.0)\n",
            "Requirement already satisfied: tqdm>=4.41.0 in /usr/local/lib/python3.11/dist-packages (from roboflow) (4.67.1)\n",
            "Requirement already satisfied: PyYAML>=5.3.1 in /usr/local/lib/python3.11/dist-packages (from roboflow) (6.0.2)\n",
            "Requirement already satisfied: requests-toolbelt in /usr/local/lib/python3.11/dist-packages (from roboflow) (1.0.0)\n",
            "Collecting filetype (from roboflow)\n",
            "  Downloading filetype-1.2.0-py2.py3-none-any.whl.metadata (6.5 kB)\n",
            "Requirement already satisfied: opencv-python>=4.6.0 in /usr/local/lib/python3.11/dist-packages (from ultralytics) (4.12.0.88)\n",
            "Requirement already satisfied: scipy>=1.4.1 in /usr/local/lib/python3.11/dist-packages (from ultralytics) (1.16.0)\n",
            "Requirement already satisfied: torch>=1.8.0 in /usr/local/lib/python3.11/dist-packages (from ultralytics) (2.6.0+cu124)\n",
            "Requirement already satisfied: torchvision>=0.9.0 in /usr/local/lib/python3.11/dist-packages (from ultralytics) (0.21.0+cu124)\n",
            "Requirement already satisfied: psutil in /usr/local/lib/python3.11/dist-packages (from ultralytics) (5.9.5)\n",
            "Requirement already satisfied: py-cpuinfo in /usr/local/lib/python3.11/dist-packages (from ultralytics) (9.0.0)\n",
            "Requirement already satisfied: pandas>=1.1.4 in /usr/local/lib/python3.11/dist-packages (from ultralytics) (2.2.2)\n",
            "Collecting ultralytics-thop>=2.0.0 (from ultralytics)\n",
            "  Downloading ultralytics_thop-2.0.14-py3-none-any.whl.metadata (9.4 kB)\n",
            "Requirement already satisfied: contourpy>=1.0.1 in /usr/local/lib/python3.11/dist-packages (from matplotlib->roboflow) (1.3.2)\n",
            "Requirement already satisfied: fonttools>=4.22.0 in /usr/local/lib/python3.11/dist-packages (from matplotlib->roboflow) (4.59.0)\n",
            "Requirement already satisfied: packaging>=20.0 in /usr/local/lib/python3.11/dist-packages (from matplotlib->roboflow) (25.0)\n",
            "Requirement already satisfied: pyparsing>=2.3.1 in /usr/local/lib/python3.11/dist-packages (from matplotlib->roboflow) (3.2.3)\n",
            "Requirement already satisfied: pytz>=2020.1 in /usr/local/lib/python3.11/dist-packages (from pandas>=1.1.4->ultralytics) (2025.2)\n",
            "Requirement already satisfied: tzdata>=2022.7 in /usr/local/lib/python3.11/dist-packages (from pandas>=1.1.4->ultralytics) (2025.2)\n",
            "Requirement already satisfied: charset-normalizer<4,>=2 in /usr/local/lib/python3.11/dist-packages (from requests->roboflow) (3.4.2)\n",
            "Requirement already satisfied: filelock in /usr/local/lib/python3.11/dist-packages (from torch>=1.8.0->ultralytics) (3.18.0)\n",
            "Requirement already satisfied: typing-extensions>=4.10.0 in /usr/local/lib/python3.11/dist-packages (from torch>=1.8.0->ultralytics) (4.14.1)\n",
            "Requirement already satisfied: networkx in /usr/local/lib/python3.11/dist-packages (from torch>=1.8.0->ultralytics) (3.5)\n",
            "Requirement already satisfied: jinja2 in /usr/local/lib/python3.11/dist-packages (from torch>=1.8.0->ultralytics) (3.1.6)\n",
            "Requirement already satisfied: fsspec in /usr/local/lib/python3.11/dist-packages (from torch>=1.8.0->ultralytics) (2025.7.0)\n",
            "Collecting nvidia-cuda-nvrtc-cu12==12.4.127 (from torch>=1.8.0->ultralytics)\n",
            "  Downloading nvidia_cuda_nvrtc_cu12-12.4.127-py3-none-manylinux2014_x86_64.whl.metadata (1.5 kB)\n",
            "Collecting nvidia-cuda-runtime-cu12==12.4.127 (from torch>=1.8.0->ultralytics)\n",
            "  Downloading nvidia_cuda_runtime_cu12-12.4.127-py3-none-manylinux2014_x86_64.whl.metadata (1.5 kB)\n",
            "Collecting nvidia-cuda-cupti-cu12==12.4.127 (from torch>=1.8.0->ultralytics)\n",
            "  Downloading nvidia_cuda_cupti_cu12-12.4.127-py3-none-manylinux2014_x86_64.whl.metadata (1.6 kB)\n",
            "Collecting nvidia-cudnn-cu12==9.1.0.70 (from torch>=1.8.0->ultralytics)\n",
            "  Downloading nvidia_cudnn_cu12-9.1.0.70-py3-none-manylinux2014_x86_64.whl.metadata (1.6 kB)\n",
            "Collecting nvidia-cublas-cu12==12.4.5.8 (from torch>=1.8.0->ultralytics)\n",
            "  Downloading nvidia_cublas_cu12-12.4.5.8-py3-none-manylinux2014_x86_64.whl.metadata (1.5 kB)\n",
            "Collecting nvidia-cufft-cu12==11.2.1.3 (from torch>=1.8.0->ultralytics)\n",
            "  Downloading nvidia_cufft_cu12-11.2.1.3-py3-none-manylinux2014_x86_64.whl.metadata (1.5 kB)\n",
            "Collecting nvidia-curand-cu12==10.3.5.147 (from torch>=1.8.0->ultralytics)\n",
            "  Downloading nvidia_curand_cu12-10.3.5.147-py3-none-manylinux2014_x86_64.whl.metadata (1.5 kB)\n",
            "Collecting nvidia-cusolver-cu12==11.6.1.9 (from torch>=1.8.0->ultralytics)\n",
            "  Downloading nvidia_cusolver_cu12-11.6.1.9-py3-none-manylinux2014_x86_64.whl.metadata (1.6 kB)\n",
            "Collecting nvidia-cusparse-cu12==12.3.1.170 (from torch>=1.8.0->ultralytics)\n",
            "  Downloading nvidia_cusparse_cu12-12.3.1.170-py3-none-manylinux2014_x86_64.whl.metadata (1.6 kB)\n",
            "Requirement already satisfied: nvidia-cusparselt-cu12==0.6.2 in /usr/local/lib/python3.11/dist-packages (from torch>=1.8.0->ultralytics) (0.6.2)\n",
            "Requirement already satisfied: nvidia-nccl-cu12==2.21.5 in /usr/local/lib/python3.11/dist-packages (from torch>=1.8.0->ultralytics) (2.21.5)\n",
            "Requirement already satisfied: nvidia-nvtx-cu12==12.4.127 in /usr/local/lib/python3.11/dist-packages (from torch>=1.8.0->ultralytics) (12.4.127)\n",
            "Collecting nvidia-nvjitlink-cu12==12.4.127 (from torch>=1.8.0->ultralytics)\n",
            "  Downloading nvidia_nvjitlink_cu12-12.4.127-py3-none-manylinux2014_x86_64.whl.metadata (1.5 kB)\n",
            "Requirement already satisfied: triton==3.2.0 in /usr/local/lib/python3.11/dist-packages (from torch>=1.8.0->ultralytics) (3.2.0)\n",
            "Requirement already satisfied: sympy==1.13.1 in /usr/local/lib/python3.11/dist-packages (from torch>=1.8.0->ultralytics) (1.13.1)\n",
            "Requirement already satisfied: mpmath<1.4,>=1.1.0 in /usr/local/lib/python3.11/dist-packages (from sympy==1.13.1->torch>=1.8.0->ultralytics) (1.3.0)\n",
            "Requirement already satisfied: MarkupSafe>=2.0 in /usr/local/lib/python3.11/dist-packages (from jinja2->torch>=1.8.0->ultralytics) (3.0.2)\n",
            "Downloading roboflow-1.2.2-py3-none-any.whl (86 kB)\n",
            "\u001b[2K   \u001b[90m━━━━━━━━━━━━━━━━━━━━━━━━━━━━━━━━━━━━━━━━\u001b[0m \u001b[32m86.9/86.9 kB\u001b[0m \u001b[31m4.0 MB/s\u001b[0m eta \u001b[36m0:00:00\u001b[0m\n",
            "\u001b[?25hDownloading idna-3.7-py3-none-any.whl (66 kB)\n",
            "\u001b[2K   \u001b[90m━━━━━━━━━━━━━━━━━━━━━━━━━━━━━━━━━━━━━━━━\u001b[0m \u001b[32m66.8/66.8 kB\u001b[0m \u001b[31m6.4 MB/s\u001b[0m eta \u001b[36m0:00:00\u001b[0m\n",
            "\u001b[?25hDownloading opencv_python_headless-4.10.0.84-cp37-abi3-manylinux_2_17_x86_64.manylinux2014_x86_64.whl (49.9 MB)\n",
            "\u001b[2K   \u001b[90m━━━━━━━━━━━━━━━━━━━━━━━━━━━━━━━━━━━━━━━━\u001b[0m \u001b[32m49.9/49.9 MB\u001b[0m \u001b[31m15.2 MB/s\u001b[0m eta \u001b[36m0:00:00\u001b[0m\n",
            "\u001b[?25hDownloading ultralytics-8.3.169-py3-none-any.whl (1.0 MB)\n",
            "\u001b[2K   \u001b[90m━━━━━━━━━━━━━━━━━━━━━━━━━━━━━━━━━━━━━━━━\u001b[0m \u001b[32m1.0/1.0 MB\u001b[0m \u001b[31m62.2 MB/s\u001b[0m eta \u001b[36m0:00:00\u001b[0m\n",
            "\u001b[?25hDownloading pillow_avif_plugin-1.5.2-cp311-cp311-manylinux_2_28_x86_64.whl (4.2 MB)\n",
            "\u001b[2K   \u001b[90m━━━━━━━━━━━━━━━━━━━━━━━━━━━━━━━━━━━━━━━━\u001b[0m \u001b[32m4.2/4.2 MB\u001b[0m \u001b[31m115.2 MB/s\u001b[0m eta \u001b[36m0:00:00\u001b[0m\n",
            "\u001b[?25hDownloading pillow_heif-1.0.0-cp311-cp311-manylinux_2_17_x86_64.manylinux2014_x86_64.whl (4.9 MB)\n",
            "\u001b[2K   \u001b[90m━━━━━━━━━━━━━━━━━━━━━━━━━━━━━━━━━━━━━━━━\u001b[0m \u001b[32m4.9/4.9 MB\u001b[0m \u001b[31m121.5 MB/s\u001b[0m eta \u001b[36m0:00:00\u001b[0m\n",
            "\u001b[?25hDownloading nvidia_cublas_cu12-12.4.5.8-py3-none-manylinux2014_x86_64.whl (363.4 MB)\n",
            "\u001b[2K   \u001b[90m━━━━━━━━━━━━━━━━━━━━━━━━━━━━━━━━━━━━━━━━\u001b[0m \u001b[32m363.4/363.4 MB\u001b[0m \u001b[31m3.9 MB/s\u001b[0m eta \u001b[36m0:00:00\u001b[0m\n",
            "\u001b[?25hDownloading nvidia_cuda_cupti_cu12-12.4.127-py3-none-manylinux2014_x86_64.whl (13.8 MB)\n",
            "\u001b[2K   \u001b[90m━━━━━━━━━━━━━━━━━━━━━━━━━━━━━━━━━━━━━━━━\u001b[0m \u001b[32m13.8/13.8 MB\u001b[0m \u001b[31m86.5 MB/s\u001b[0m eta \u001b[36m0:00:00\u001b[0m\n",
            "\u001b[?25hDownloading nvidia_cuda_nvrtc_cu12-12.4.127-py3-none-manylinux2014_x86_64.whl (24.6 MB)\n",
            "\u001b[2K   \u001b[90m━━━━━━━━━━━━━━━━━━━━━━━━━━━━━━━━━━━━━━━━\u001b[0m \u001b[32m24.6/24.6 MB\u001b[0m \u001b[31m77.7 MB/s\u001b[0m eta \u001b[36m0:00:00\u001b[0m\n",
            "\u001b[?25hDownloading nvidia_cuda_runtime_cu12-12.4.127-py3-none-manylinux2014_x86_64.whl (883 kB)\n",
            "\u001b[2K   \u001b[90m━━━━━━━━━━━━━━━━━━━━━━━━━━━━━━━━━━━━━━━━\u001b[0m \u001b[32m883.7/883.7 kB\u001b[0m \u001b[31m52.4 MB/s\u001b[0m eta \u001b[36m0:00:00\u001b[0m\n",
            "\u001b[?25hDownloading nvidia_cudnn_cu12-9.1.0.70-py3-none-manylinux2014_x86_64.whl (664.8 MB)\n",
            "\u001b[2K   \u001b[90m━━━━━━━━━━━━━━━━━━━━━━━━━━━━━━━━━━━━━━━━\u001b[0m \u001b[32m664.8/664.8 MB\u001b[0m \u001b[31m2.3 MB/s\u001b[0m eta \u001b[36m0:00:00\u001b[0m\n",
            "\u001b[?25hDownloading nvidia_cufft_cu12-11.2.1.3-py3-none-manylinux2014_x86_64.whl (211.5 MB)\n",
            "\u001b[2K   \u001b[90m━━━━━━━━━━━━━━━━━━━━━━━━━━━━━━━━━━━━━━━━\u001b[0m \u001b[32m211.5/211.5 MB\u001b[0m \u001b[31m6.4 MB/s\u001b[0m eta \u001b[36m0:00:00\u001b[0m\n",
            "\u001b[?25hDownloading nvidia_curand_cu12-10.3.5.147-py3-none-manylinux2014_x86_64.whl (56.3 MB)\n",
            "\u001b[2K   \u001b[90m━━━━━━━━━━━━━━━━━━━━━━━━━━━━━━━━━━━━━━━━\u001b[0m \u001b[32m56.3/56.3 MB\u001b[0m \u001b[31m12.7 MB/s\u001b[0m eta \u001b[36m0:00:00\u001b[0m\n",
            "\u001b[?25hDownloading nvidia_cusolver_cu12-11.6.1.9-py3-none-manylinux2014_x86_64.whl (127.9 MB)\n",
            "\u001b[2K   \u001b[90m━━━━━━━━━━━━━━━━━━━━━━━━━━━━━━━━━━━━━━━━\u001b[0m \u001b[32m127.9/127.9 MB\u001b[0m \u001b[31m7.4 MB/s\u001b[0m eta \u001b[36m0:00:00\u001b[0m\n",
            "\u001b[?25hDownloading nvidia_cusparse_cu12-12.3.1.170-py3-none-manylinux2014_x86_64.whl (207.5 MB)\n",
            "\u001b[2K   \u001b[90m━━━━━━━━━━━━━━━━━━━━━━━━━━━━━━━━━━━━━━━━\u001b[0m \u001b[32m207.5/207.5 MB\u001b[0m \u001b[31m5.3 MB/s\u001b[0m eta \u001b[36m0:00:00\u001b[0m\n",
            "\u001b[?25hDownloading nvidia_nvjitlink_cu12-12.4.127-py3-none-manylinux2014_x86_64.whl (21.1 MB)\n",
            "\u001b[2K   \u001b[90m━━━━━━━━━━━━━━━━━━━━━━━━━━━━━━━━━━━━━━━━\u001b[0m \u001b[32m21.1/21.1 MB\u001b[0m \u001b[31m93.6 MB/s\u001b[0m eta \u001b[36m0:00:00\u001b[0m\n",
            "\u001b[?25hDownloading ultralytics_thop-2.0.14-py3-none-any.whl (26 kB)\n",
            "Downloading filetype-1.2.0-py2.py3-none-any.whl (19 kB)\n",
            "Downloading python_dotenv-1.1.1-py3-none-any.whl (20 kB)\n",
            "Installing collected packages: pillow-avif-plugin, filetype, python-dotenv, pillow-heif, opencv-python-headless, nvidia-nvjitlink-cu12, nvidia-curand-cu12, nvidia-cufft-cu12, nvidia-cuda-runtime-cu12, nvidia-cuda-nvrtc-cu12, nvidia-cuda-cupti-cu12, nvidia-cublas-cu12, idna, nvidia-cusparse-cu12, nvidia-cudnn-cu12, nvidia-cusolver-cu12, roboflow, ultralytics-thop, ultralytics\n",
            "  Attempting uninstall: opencv-python-headless\n",
            "    Found existing installation: opencv-python-headless 4.12.0.88\n",
            "    Uninstalling opencv-python-headless-4.12.0.88:\n",
            "      Successfully uninstalled opencv-python-headless-4.12.0.88\n",
            "  Attempting uninstall: nvidia-nvjitlink-cu12\n",
            "    Found existing installation: nvidia-nvjitlink-cu12 12.5.82\n",
            "    Uninstalling nvidia-nvjitlink-cu12-12.5.82:\n",
            "      Successfully uninstalled nvidia-nvjitlink-cu12-12.5.82\n",
            "  Attempting uninstall: nvidia-curand-cu12\n",
            "    Found existing installation: nvidia-curand-cu12 10.3.6.82\n",
            "    Uninstalling nvidia-curand-cu12-10.3.6.82:\n",
            "      Successfully uninstalled nvidia-curand-cu12-10.3.6.82\n",
            "  Attempting uninstall: nvidia-cufft-cu12\n",
            "    Found existing installation: nvidia-cufft-cu12 11.2.3.61\n",
            "    Uninstalling nvidia-cufft-cu12-11.2.3.61:\n",
            "      Successfully uninstalled nvidia-cufft-cu12-11.2.3.61\n",
            "  Attempting uninstall: nvidia-cuda-runtime-cu12\n",
            "    Found existing installation: nvidia-cuda-runtime-cu12 12.5.82\n",
            "    Uninstalling nvidia-cuda-runtime-cu12-12.5.82:\n",
            "      Successfully uninstalled nvidia-cuda-runtime-cu12-12.5.82\n",
            "  Attempting uninstall: nvidia-cuda-nvrtc-cu12\n",
            "    Found existing installation: nvidia-cuda-nvrtc-cu12 12.5.82\n",
            "    Uninstalling nvidia-cuda-nvrtc-cu12-12.5.82:\n",
            "      Successfully uninstalled nvidia-cuda-nvrtc-cu12-12.5.82\n",
            "  Attempting uninstall: nvidia-cuda-cupti-cu12\n",
            "    Found existing installation: nvidia-cuda-cupti-cu12 12.5.82\n",
            "    Uninstalling nvidia-cuda-cupti-cu12-12.5.82:\n",
            "      Successfully uninstalled nvidia-cuda-cupti-cu12-12.5.82\n",
            "  Attempting uninstall: nvidia-cublas-cu12\n",
            "    Found existing installation: nvidia-cublas-cu12 12.5.3.2\n",
            "    Uninstalling nvidia-cublas-cu12-12.5.3.2:\n",
            "      Successfully uninstalled nvidia-cublas-cu12-12.5.3.2\n",
            "  Attempting uninstall: idna\n",
            "    Found existing installation: idna 3.10\n",
            "    Uninstalling idna-3.10:\n",
            "      Successfully uninstalled idna-3.10\n",
            "  Attempting uninstall: nvidia-cusparse-cu12\n",
            "    Found existing installation: nvidia-cusparse-cu12 12.5.1.3\n",
            "    Uninstalling nvidia-cusparse-cu12-12.5.1.3:\n",
            "      Successfully uninstalled nvidia-cusparse-cu12-12.5.1.3\n",
            "  Attempting uninstall: nvidia-cudnn-cu12\n",
            "    Found existing installation: nvidia-cudnn-cu12 9.3.0.75\n",
            "    Uninstalling nvidia-cudnn-cu12-9.3.0.75:\n",
            "      Successfully uninstalled nvidia-cudnn-cu12-9.3.0.75\n",
            "  Attempting uninstall: nvidia-cusolver-cu12\n",
            "    Found existing installation: nvidia-cusolver-cu12 11.6.3.83\n",
            "    Uninstalling nvidia-cusolver-cu12-11.6.3.83:\n",
            "      Successfully uninstalled nvidia-cusolver-cu12-11.6.3.83\n",
            "Successfully installed filetype-1.2.0 idna-3.7 nvidia-cublas-cu12-12.4.5.8 nvidia-cuda-cupti-cu12-12.4.127 nvidia-cuda-nvrtc-cu12-12.4.127 nvidia-cuda-runtime-cu12-12.4.127 nvidia-cudnn-cu12-9.1.0.70 nvidia-cufft-cu12-11.2.1.3 nvidia-curand-cu12-10.3.5.147 nvidia-cusolver-cu12-11.6.1.9 nvidia-cusparse-cu12-12.3.1.170 nvidia-nvjitlink-cu12-12.4.127 opencv-python-headless-4.10.0.84 pillow-avif-plugin-1.5.2 pillow-heif-1.0.0 python-dotenv-1.1.1 roboflow-1.2.2 ultralytics-8.3.169 ultralytics-thop-2.0.14\n"
          ]
        }
      ]
    },
    {
      "cell_type": "code",
      "source": [
        "from roboflow import Roboflow\n",
        "\n",
        "rf = Roboflow(api_key=\"PYIrYvf8WFPOSaItVRYl\")\n",
        "project = rf.workspace(\"newworkspace-t5oqu\").project(\"kataract-object-detection\")\n",
        "version = project.version(3)\n",
        "dataset = version.download(\"yolov11\")"
      ],
      "metadata": {
        "colab": {
          "base_uri": "https://localhost:8080/"
        },
        "id": "Y2inW5mVNMuT",
        "outputId": "0e3ea6d7-d8ae-402a-e684-9d553ac2bea0"
      },
      "execution_count": null,
      "outputs": [
        {
          "output_type": "stream",
          "name": "stdout",
          "text": [
            "loading Roboflow workspace...\n",
            "loading Roboflow project...\n"
          ]
        },
        {
          "output_type": "stream",
          "name": "stderr",
          "text": [
            "Downloading Dataset Version Zip in Kataract-Object-Detection-3 to yolov11:: 100%|██████████| 108086/108086 [00:03<00:00, 34932.27it/s]"
          ]
        },
        {
          "output_type": "stream",
          "name": "stdout",
          "text": [
            "\n"
          ]
        },
        {
          "output_type": "stream",
          "name": "stderr",
          "text": [
            "\n",
            "Extracting Dataset Version Zip to Kataract-Object-Detection-3 in yolov11:: 100%|██████████| 5701/5701 [00:01<00:00, 4115.87it/s]\n"
          ]
        }
      ]
    },
    {
      "cell_type": "code",
      "source": [
        "from ultralytics import YOLO\n",
        "model = YOLO('yolo11m.pt')"
      ],
      "metadata": {
        "colab": {
          "base_uri": "https://localhost:8080/"
        },
        "id": "Mcyj82h6NaUJ",
        "outputId": "c01dc991-ebe8-4ad7-f71c-3b421290dc84"
      },
      "execution_count": null,
      "outputs": [
        {
          "output_type": "stream",
          "name": "stdout",
          "text": [
            "Creating new Ultralytics Settings v0.0.6 file ✅ \n",
            "View Ultralytics Settings with 'yolo settings' or at '/root/.config/Ultralytics/settings.json'\n",
            "Update Settings with 'yolo settings key=value', i.e. 'yolo settings runs_dir=path/to/dir'. For help see https://docs.ultralytics.com/quickstart/#ultralytics-settings.\n",
            "Downloading https://github.com/ultralytics/assets/releases/download/v8.3.0/yolo11m.pt to 'yolo11m.pt'...\n"
          ]
        },
        {
          "output_type": "stream",
          "name": "stderr",
          "text": [
            "100%|██████████| 38.8M/38.8M [00:00<00:00, 141MB/s]\n"
          ]
        }
      ]
    },
    {
      "cell_type": "code",
      "source": [
        "results = model.train(\n",
        "    data=f'{dataset.location}/data.yaml',\n",
        "    epochs=50,\n",
        "    imgsz=416,\n",
        "    batch=16,\n",
        "    device=0,\n",
        "    project='/content/drive/MyDrive/cataract-yolo11',\n",
        "    name='exp_50epochs',\n",
        "    workers=2,\n",
        "    patience=10,\n",
        "    verbose=True\n",
        ")"
      ],
      "metadata": {
        "colab": {
          "base_uri": "https://localhost:8080/"
        },
        "id": "cO9TyppDNvrT",
        "outputId": "09fafc9a-4035-42c7-a2ec-c7c7de9bccd8"
      },
      "execution_count": null,
      "outputs": [
        {
          "output_type": "stream",
          "name": "stdout",
          "text": [
            "Ultralytics 8.3.169 🚀 Python-3.11.13 torch-2.6.0+cu124 CUDA:0 (Tesla T4, 15095MiB)\n",
            "\u001b[34m\u001b[1mengine/trainer: \u001b[0magnostic_nms=False, amp=True, augment=False, auto_augment=randaugment, batch=16, bgr=0.0, box=7.5, cache=False, cfg=None, classes=None, close_mosaic=10, cls=0.5, conf=None, copy_paste=0.0, copy_paste_mode=flip, cos_lr=False, cutmix=0.0, data=/content/Kataract-Object-Detection-3/data.yaml, degrees=0.0, deterministic=True, device=0, dfl=1.5, dnn=False, dropout=0.0, dynamic=False, embed=None, epochs=50, erasing=0.4, exist_ok=False, fliplr=0.5, flipud=0.0, format=torchscript, fraction=1.0, freeze=None, half=False, hsv_h=0.015, hsv_s=0.7, hsv_v=0.4, imgsz=416, int8=False, iou=0.7, keras=False, kobj=1.0, line_width=None, lr0=0.01, lrf=0.01, mask_ratio=4, max_det=300, mixup=0.0, mode=train, model=yolo11m.pt, momentum=0.937, mosaic=1.0, multi_scale=False, name=exp_50epochs, nbs=64, nms=False, opset=None, optimize=False, optimizer=auto, overlap_mask=True, patience=10, perspective=0.0, plots=True, pose=12.0, pretrained=True, profile=False, project=/content/drive/MyDrive/cataract-yolo11, rect=False, resume=False, retina_masks=False, save=True, save_conf=False, save_crop=False, save_dir=/content/drive/MyDrive/cataract-yolo11/exp_50epochs, save_frames=False, save_json=False, save_period=-1, save_txt=False, scale=0.5, seed=0, shear=0.0, show=False, show_boxes=True, show_conf=True, show_labels=True, simplify=True, single_cls=False, source=None, split=val, stream_buffer=False, task=detect, time=None, tracker=botsort.yaml, translate=0.1, val=True, verbose=True, vid_stride=1, visualize=False, warmup_bias_lr=0.1, warmup_epochs=3.0, warmup_momentum=0.8, weight_decay=0.0005, workers=2, workspace=None\n",
            "Downloading https://ultralytics.com/assets/Arial.ttf to '/root/.config/Ultralytics/Arial.ttf'...\n"
          ]
        },
        {
          "output_type": "stream",
          "name": "stderr",
          "text": [
            "100%|██████████| 755k/755k [00:00<00:00, 14.9MB/s]"
          ]
        },
        {
          "output_type": "stream",
          "name": "stdout",
          "text": [
            "Overriding model.yaml nc=80 with nc=2\n",
            "\n",
            "                   from  n    params  module                                       arguments                     \n",
            "  0                  -1  1      1856  ultralytics.nn.modules.conv.Conv             [3, 64, 3, 2]                 \n",
            "  1                  -1  1     73984  ultralytics.nn.modules.conv.Conv             [64, 128, 3, 2]               \n",
            "  2                  -1  1    111872  ultralytics.nn.modules.block.C3k2            [128, 256, 1, True, 0.25]     \n",
            "  3                  -1  1    590336  ultralytics.nn.modules.conv.Conv             [256, 256, 3, 2]              \n",
            "  4                  -1  1    444928  ultralytics.nn.modules.block.C3k2            [256, 512, 1, True, 0.25]     \n",
            "  5                  -1  1   2360320  ultralytics.nn.modules.conv.Conv             [512, 512, 3, 2]              \n",
            "  6                  -1  1   1380352  ultralytics.nn.modules.block.C3k2            [512, 512, 1, True]           \n"
          ]
        },
        {
          "output_type": "stream",
          "name": "stderr",
          "text": [
            "\n"
          ]
        },
        {
          "output_type": "stream",
          "name": "stdout",
          "text": [
            "  7                  -1  1   2360320  ultralytics.nn.modules.conv.Conv             [512, 512, 3, 2]              \n",
            "  8                  -1  1   1380352  ultralytics.nn.modules.block.C3k2            [512, 512, 1, True]           \n",
            "  9                  -1  1    656896  ultralytics.nn.modules.block.SPPF            [512, 512, 5]                 \n",
            " 10                  -1  1    990976  ultralytics.nn.modules.block.C2PSA           [512, 512, 1]                 \n",
            " 11                  -1  1         0  torch.nn.modules.upsampling.Upsample         [None, 2, 'nearest']          \n",
            " 12             [-1, 6]  1         0  ultralytics.nn.modules.conv.Concat           [1]                           \n",
            " 13                  -1  1   1642496  ultralytics.nn.modules.block.C3k2            [1024, 512, 1, True]          \n",
            " 14                  -1  1         0  torch.nn.modules.upsampling.Upsample         [None, 2, 'nearest']          \n",
            " 15             [-1, 4]  1         0  ultralytics.nn.modules.conv.Concat           [1]                           \n",
            " 16                  -1  1    542720  ultralytics.nn.modules.block.C3k2            [1024, 256, 1, True]          \n",
            " 17                  -1  1    590336  ultralytics.nn.modules.conv.Conv             [256, 256, 3, 2]              \n",
            " 18            [-1, 13]  1         0  ultralytics.nn.modules.conv.Concat           [1]                           \n",
            " 19                  -1  1   1511424  ultralytics.nn.modules.block.C3k2            [768, 512, 1, True]           \n",
            " 20                  -1  1   2360320  ultralytics.nn.modules.conv.Conv             [512, 512, 3, 2]              \n",
            " 21            [-1, 10]  1         0  ultralytics.nn.modules.conv.Concat           [1]                           \n",
            " 22                  -1  1   1642496  ultralytics.nn.modules.block.C3k2            [1024, 512, 1, True]          \n",
            " 23        [16, 19, 22]  1   1412566  ultralytics.nn.modules.head.Detect           [2, [256, 512, 512]]          \n",
            "YOLO11m summary: 231 layers, 20,054,550 parameters, 20,054,534 gradients, 68.2 GFLOPs\n",
            "\n",
            "Transferred 643/649 items from pretrained weights\n",
            "Freezing layer 'model.23.dfl.conv.weight'\n",
            "\u001b[34m\u001b[1mAMP: \u001b[0mrunning Automatic Mixed Precision (AMP) checks...\n",
            "Downloading https://github.com/ultralytics/assets/releases/download/v8.3.0/yolo11n.pt to 'yolo11n.pt'...\n"
          ]
        },
        {
          "output_type": "stream",
          "name": "stderr",
          "text": [
            "100%|██████████| 5.35M/5.35M [00:00<00:00, 65.9MB/s]\n"
          ]
        },
        {
          "output_type": "stream",
          "name": "stdout",
          "text": [
            "\u001b[34m\u001b[1mAMP: \u001b[0mchecks passed ✅\n",
            "\u001b[34m\u001b[1mtrain: \u001b[0mFast image access ✅ (ping: 0.0±0.0 ms, read: 1234.2±574.5 MB/s, size: 36.0 KB)\n"
          ]
        },
        {
          "output_type": "stream",
          "name": "stderr",
          "text": [
            "\u001b[34m\u001b[1mtrain: \u001b[0mScanning /content/Kataract-Object-Detection-3/train/labels... 2628 images, 0 backgrounds, 0 corrupt: 100%|██████████| 2628/2628 [00:01<00:00, 2526.21it/s]"
          ]
        },
        {
          "output_type": "stream",
          "name": "stdout",
          "text": [
            "\u001b[34m\u001b[1mtrain: \u001b[0mNew cache created: /content/Kataract-Object-Detection-3/train/labels.cache\n"
          ]
        },
        {
          "output_type": "stream",
          "name": "stderr",
          "text": [
            "\n"
          ]
        },
        {
          "output_type": "stream",
          "name": "stdout",
          "text": [
            "\u001b[34m\u001b[1malbumentations: \u001b[0mBlur(p=0.01, blur_limit=(3, 7)), MedianBlur(p=0.01, blur_limit=(3, 7)), ToGray(p=0.01, method='weighted_average', num_output_channels=3), CLAHE(p=0.01, clip_limit=(1.0, 4.0), tile_grid_size=(8, 8))\n",
            "\u001b[34m\u001b[1mval: \u001b[0mFast image access ✅ (ping: 0.0±0.0 ms, read: 771.4±384.9 MB/s, size: 29.0 KB)\n"
          ]
        },
        {
          "output_type": "stream",
          "name": "stderr",
          "text": [
            "\u001b[34m\u001b[1mval: \u001b[0mScanning /content/Kataract-Object-Detection-3/valid/labels... 218 images, 0 backgrounds, 0 corrupt: 100%|██████████| 218/218 [00:00<00:00, 935.66it/s]"
          ]
        },
        {
          "output_type": "stream",
          "name": "stdout",
          "text": [
            "\u001b[34m\u001b[1mval: \u001b[0mNew cache created: /content/Kataract-Object-Detection-3/valid/labels.cache\n"
          ]
        },
        {
          "output_type": "stream",
          "name": "stderr",
          "text": [
            "\n"
          ]
        },
        {
          "output_type": "stream",
          "name": "stdout",
          "text": [
            "Plotting labels to /content/drive/MyDrive/cataract-yolo11/exp_50epochs/labels.jpg... \n",
            "\u001b[34m\u001b[1moptimizer:\u001b[0m 'optimizer=auto' found, ignoring 'lr0=0.01' and 'momentum=0.937' and determining best 'optimizer', 'lr0' and 'momentum' automatically... \n",
            "\u001b[34m\u001b[1moptimizer:\u001b[0m AdamW(lr=0.001667, momentum=0.9) with parameter groups 106 weight(decay=0.0), 113 weight(decay=0.0005), 112 bias(decay=0.0)\n",
            "Image sizes 416 train, 416 val\n",
            "Using 2 dataloader workers\n",
            "Logging results to \u001b[1m/content/drive/MyDrive/cataract-yolo11/exp_50epochs\u001b[0m\n",
            "Starting training for 50 epochs...\n",
            "\n",
            "      Epoch    GPU_mem   box_loss   cls_loss   dfl_loss  Instances       Size\n"
          ]
        },
        {
          "output_type": "stream",
          "name": "stderr",
          "text": [
            "       1/50      3.66G     0.9511      1.073        1.3         11        416: 100%|██████████| 165/165 [00:51<00:00,  3.21it/s]\n",
            "                 Class     Images  Instances      Box(P          R      mAP50  mAP50-95): 100%|██████████| 7/7 [00:03<00:00,  1.95it/s]"
          ]
        },
        {
          "output_type": "stream",
          "name": "stdout",
          "text": [
            "                   all        218        220       0.38      0.249      0.249      0.143\n"
          ]
        },
        {
          "output_type": "stream",
          "name": "stderr",
          "text": [
            "\n"
          ]
        },
        {
          "output_type": "stream",
          "name": "stdout",
          "text": [
            "\n",
            "      Epoch    GPU_mem   box_loss   cls_loss   dfl_loss  Instances       Size\n"
          ]
        },
        {
          "output_type": "stream",
          "name": "stderr",
          "text": [
            "       2/50      4.39G     0.9625     0.8913      1.305          7        416: 100%|██████████| 165/165 [00:49<00:00,  3.32it/s]\n",
            "                 Class     Images  Instances      Box(P          R      mAP50  mAP50-95): 100%|██████████| 7/7 [00:01<00:00,  3.66it/s]"
          ]
        },
        {
          "output_type": "stream",
          "name": "stdout",
          "text": [
            "                   all        218        220      0.488      0.584      0.602      0.382\n"
          ]
        },
        {
          "output_type": "stream",
          "name": "stderr",
          "text": [
            "\n"
          ]
        },
        {
          "output_type": "stream",
          "name": "stdout",
          "text": [
            "\n",
            "      Epoch    GPU_mem   box_loss   cls_loss   dfl_loss  Instances       Size\n"
          ]
        },
        {
          "output_type": "stream",
          "name": "stderr",
          "text": [
            "       3/50      4.46G     0.9339     0.8359      1.275          7        416: 100%|██████████| 165/165 [00:52<00:00,  3.12it/s]\n",
            "                 Class     Images  Instances      Box(P          R      mAP50  mAP50-95): 100%|██████████| 7/7 [00:01<00:00,  3.95it/s]"
          ]
        },
        {
          "output_type": "stream",
          "name": "stdout",
          "text": [
            "                   all        218        220      0.634      0.468      0.529      0.283\n"
          ]
        },
        {
          "output_type": "stream",
          "name": "stderr",
          "text": [
            "\n"
          ]
        },
        {
          "output_type": "stream",
          "name": "stdout",
          "text": [
            "\n",
            "      Epoch    GPU_mem   box_loss   cls_loss   dfl_loss  Instances       Size\n"
          ]
        },
        {
          "output_type": "stream",
          "name": "stderr",
          "text": [
            "       4/50      4.77G     0.9005     0.7498      1.248         13        416: 100%|██████████| 165/165 [00:50<00:00,  3.28it/s]\n",
            "                 Class     Images  Instances      Box(P          R      mAP50  mAP50-95): 100%|██████████| 7/7 [00:01<00:00,  3.94it/s]"
          ]
        },
        {
          "output_type": "stream",
          "name": "stdout",
          "text": [
            "                   all        218        220       0.94      0.858      0.953      0.775\n"
          ]
        },
        {
          "output_type": "stream",
          "name": "stderr",
          "text": [
            "\n"
          ]
        },
        {
          "output_type": "stream",
          "name": "stdout",
          "text": [
            "\n",
            "      Epoch    GPU_mem   box_loss   cls_loss   dfl_loss  Instances       Size\n"
          ]
        },
        {
          "output_type": "stream",
          "name": "stderr",
          "text": [
            "       5/50      4.81G     0.8546     0.7044      1.215         10        416: 100%|██████████| 165/165 [00:51<00:00,  3.20it/s]\n",
            "                 Class     Images  Instances      Box(P          R      mAP50  mAP50-95): 100%|██████████| 7/7 [00:02<00:00,  3.47it/s]"
          ]
        },
        {
          "output_type": "stream",
          "name": "stdout",
          "text": [
            "                   all        218        220       0.93      0.886      0.949      0.746\n"
          ]
        },
        {
          "output_type": "stream",
          "name": "stderr",
          "text": [
            "\n"
          ]
        },
        {
          "output_type": "stream",
          "name": "stdout",
          "text": [
            "\n",
            "      Epoch    GPU_mem   box_loss   cls_loss   dfl_loss  Instances       Size\n"
          ]
        },
        {
          "output_type": "stream",
          "name": "stderr",
          "text": [
            "       6/50       4.9G     0.8194     0.6559      1.192         10        416: 100%|██████████| 165/165 [00:49<00:00,  3.32it/s]\n",
            "                 Class     Images  Instances      Box(P          R      mAP50  mAP50-95): 100%|██████████| 7/7 [00:02<00:00,  3.42it/s]"
          ]
        },
        {
          "output_type": "stream",
          "name": "stdout",
          "text": [
            "                   all        218        220      0.962      0.912      0.984      0.801\n"
          ]
        },
        {
          "output_type": "stream",
          "name": "stderr",
          "text": [
            "\n"
          ]
        },
        {
          "output_type": "stream",
          "name": "stdout",
          "text": [
            "\n",
            "      Epoch    GPU_mem   box_loss   cls_loss   dfl_loss  Instances       Size\n"
          ]
        },
        {
          "output_type": "stream",
          "name": "stderr",
          "text": [
            "       7/50      4.97G     0.7823     0.6172      1.164          5        416: 100%|██████████| 165/165 [00:51<00:00,  3.19it/s]\n",
            "                 Class     Images  Instances      Box(P          R      mAP50  mAP50-95): 100%|██████████| 7/7 [00:01<00:00,  3.87it/s]"
          ]
        },
        {
          "output_type": "stream",
          "name": "stdout",
          "text": [
            "                   all        218        220      0.926      0.912      0.967      0.811\n"
          ]
        },
        {
          "output_type": "stream",
          "name": "stderr",
          "text": [
            "\n"
          ]
        },
        {
          "output_type": "stream",
          "name": "stdout",
          "text": [
            "\n",
            "      Epoch    GPU_mem   box_loss   cls_loss   dfl_loss  Instances       Size\n"
          ]
        },
        {
          "output_type": "stream",
          "name": "stderr",
          "text": [
            "       8/50      5.04G     0.7645     0.5812      1.157         10        416: 100%|██████████| 165/165 [00:52<00:00,  3.16it/s]\n",
            "                 Class     Images  Instances      Box(P          R      mAP50  mAP50-95): 100%|██████████| 7/7 [00:01<00:00,  3.94it/s]"
          ]
        },
        {
          "output_type": "stream",
          "name": "stdout",
          "text": [
            "                   all        218        220       0.94      0.956      0.987      0.831\n"
          ]
        },
        {
          "output_type": "stream",
          "name": "stderr",
          "text": [
            "\n"
          ]
        },
        {
          "output_type": "stream",
          "name": "stdout",
          "text": [
            "\n",
            "      Epoch    GPU_mem   box_loss   cls_loss   dfl_loss  Instances       Size\n"
          ]
        },
        {
          "output_type": "stream",
          "name": "stderr",
          "text": [
            "       9/50      5.08G     0.7382     0.5562      1.134          8        416: 100%|██████████| 165/165 [00:52<00:00,  3.17it/s]\n",
            "                 Class     Images  Instances      Box(P          R      mAP50  mAP50-95): 100%|██████████| 7/7 [00:01<00:00,  3.91it/s]"
          ]
        },
        {
          "output_type": "stream",
          "name": "stdout",
          "text": [
            "                   all        218        220      0.949       0.97      0.991      0.838\n"
          ]
        },
        {
          "output_type": "stream",
          "name": "stderr",
          "text": [
            "\n"
          ]
        },
        {
          "output_type": "stream",
          "name": "stdout",
          "text": [
            "\n",
            "      Epoch    GPU_mem   box_loss   cls_loss   dfl_loss  Instances       Size\n"
          ]
        },
        {
          "output_type": "stream",
          "name": "stderr",
          "text": [
            "      10/50      5.17G     0.7198     0.5434      1.125          7        416: 100%|██████████| 165/165 [00:51<00:00,  3.18it/s]\n",
            "                 Class     Images  Instances      Box(P          R      mAP50  mAP50-95): 100%|██████████| 7/7 [00:01<00:00,  4.02it/s]"
          ]
        },
        {
          "output_type": "stream",
          "name": "stdout",
          "text": [
            "                   all        218        220      0.961      0.976      0.988      0.841\n"
          ]
        },
        {
          "output_type": "stream",
          "name": "stderr",
          "text": [
            "\n"
          ]
        },
        {
          "output_type": "stream",
          "name": "stdout",
          "text": [
            "\n",
            "      Epoch    GPU_mem   box_loss   cls_loss   dfl_loss  Instances       Size\n"
          ]
        },
        {
          "output_type": "stream",
          "name": "stderr",
          "text": [
            "      11/50      5.24G     0.7071     0.5274      1.118          8        416: 100%|██████████| 165/165 [00:51<00:00,  3.18it/s]\n",
            "                 Class     Images  Instances      Box(P          R      mAP50  mAP50-95): 100%|██████████| 7/7 [00:01<00:00,  4.04it/s]"
          ]
        },
        {
          "output_type": "stream",
          "name": "stdout",
          "text": [
            "                   all        218        220      0.962      0.969      0.991      0.847\n"
          ]
        },
        {
          "output_type": "stream",
          "name": "stderr",
          "text": [
            "\n"
          ]
        },
        {
          "output_type": "stream",
          "name": "stdout",
          "text": [
            "\n",
            "      Epoch    GPU_mem   box_loss   cls_loss   dfl_loss  Instances       Size\n"
          ]
        },
        {
          "output_type": "stream",
          "name": "stderr",
          "text": [
            "      12/50       5.3G     0.7019     0.5086      1.116          4        416: 100%|██████████| 165/165 [00:50<00:00,  3.25it/s]\n",
            "                 Class     Images  Instances      Box(P          R      mAP50  mAP50-95): 100%|██████████| 7/7 [00:02<00:00,  3.19it/s]"
          ]
        },
        {
          "output_type": "stream",
          "name": "stdout",
          "text": [
            "                   all        218        220      0.969      0.993      0.994      0.847\n"
          ]
        },
        {
          "output_type": "stream",
          "name": "stderr",
          "text": [
            "\n"
          ]
        },
        {
          "output_type": "stream",
          "name": "stdout",
          "text": [
            "\n",
            "      Epoch    GPU_mem   box_loss   cls_loss   dfl_loss  Instances       Size\n"
          ]
        },
        {
          "output_type": "stream",
          "name": "stderr",
          "text": [
            "      13/50      5.34G     0.6769     0.4904        1.1         10        416: 100%|██████████| 165/165 [00:50<00:00,  3.25it/s]\n",
            "                 Class     Images  Instances      Box(P          R      mAP50  mAP50-95): 100%|██████████| 7/7 [00:02<00:00,  2.98it/s]"
          ]
        },
        {
          "output_type": "stream",
          "name": "stdout",
          "text": [
            "                   all        218        220      0.982      0.971      0.994      0.854\n"
          ]
        },
        {
          "output_type": "stream",
          "name": "stderr",
          "text": [
            "\n"
          ]
        },
        {
          "output_type": "stream",
          "name": "stdout",
          "text": [
            "\n",
            "      Epoch    GPU_mem   box_loss   cls_loss   dfl_loss  Instances       Size\n"
          ]
        },
        {
          "output_type": "stream",
          "name": "stderr",
          "text": [
            "      14/50      5.44G     0.6643     0.4753       1.09          9        416: 100%|██████████| 165/165 [00:49<00:00,  3.30it/s]\n",
            "                 Class     Images  Instances      Box(P          R      mAP50  mAP50-95): 100%|██████████| 7/7 [00:01<00:00,  3.85it/s]"
          ]
        },
        {
          "output_type": "stream",
          "name": "stdout",
          "text": [
            "                   all        218        220       0.99      0.981      0.994      0.873\n"
          ]
        },
        {
          "output_type": "stream",
          "name": "stderr",
          "text": [
            "\n"
          ]
        },
        {
          "output_type": "stream",
          "name": "stdout",
          "text": [
            "\n",
            "      Epoch    GPU_mem   box_loss   cls_loss   dfl_loss  Instances       Size\n"
          ]
        },
        {
          "output_type": "stream",
          "name": "stderr",
          "text": [
            "      15/50       5.5G     0.6707     0.4859      1.096          4        416: 100%|██████████| 165/165 [00:50<00:00,  3.30it/s]\n",
            "                 Class     Images  Instances      Box(P          R      mAP50  mAP50-95): 100%|██████████| 7/7 [00:01<00:00,  4.00it/s]"
          ]
        },
        {
          "output_type": "stream",
          "name": "stdout",
          "text": [
            "                   all        218        220      0.963      0.981      0.993      0.845\n"
          ]
        },
        {
          "output_type": "stream",
          "name": "stderr",
          "text": [
            "\n"
          ]
        },
        {
          "output_type": "stream",
          "name": "stdout",
          "text": [
            "\n",
            "      Epoch    GPU_mem   box_loss   cls_loss   dfl_loss  Instances       Size\n"
          ]
        },
        {
          "output_type": "stream",
          "name": "stderr",
          "text": [
            "      16/50      5.57G     0.6466     0.4658      1.079          4        416: 100%|██████████| 165/165 [00:49<00:00,  3.34it/s]\n",
            "                 Class     Images  Instances      Box(P          R      mAP50  mAP50-95): 100%|██████████| 7/7 [00:01<00:00,  3.90it/s]"
          ]
        },
        {
          "output_type": "stream",
          "name": "stdout",
          "text": [
            "                   all        218        220      0.969      0.973      0.992       0.87\n"
          ]
        },
        {
          "output_type": "stream",
          "name": "stderr",
          "text": [
            "\n"
          ]
        },
        {
          "output_type": "stream",
          "name": "stdout",
          "text": [
            "\n",
            "      Epoch    GPU_mem   box_loss   cls_loss   dfl_loss  Instances       Size\n"
          ]
        },
        {
          "output_type": "stream",
          "name": "stderr",
          "text": [
            "      17/50      5.61G     0.6369     0.4445      1.075          9        416: 100%|██████████| 165/165 [00:49<00:00,  3.36it/s]\n",
            "                 Class     Images  Instances      Box(P          R      mAP50  mAP50-95): 100%|██████████| 7/7 [00:02<00:00,  3.21it/s]"
          ]
        },
        {
          "output_type": "stream",
          "name": "stdout",
          "text": [
            "                   all        218        220      0.963      0.978      0.992      0.865\n"
          ]
        },
        {
          "output_type": "stream",
          "name": "stderr",
          "text": [
            "\n"
          ]
        },
        {
          "output_type": "stream",
          "name": "stdout",
          "text": [
            "\n",
            "      Epoch    GPU_mem   box_loss   cls_loss   dfl_loss  Instances       Size\n"
          ]
        },
        {
          "output_type": "stream",
          "name": "stderr",
          "text": [
            "      18/50       5.7G     0.6343     0.4359      1.073         10        416: 100%|██████████| 165/165 [00:48<00:00,  3.39it/s]\n",
            "                 Class     Images  Instances      Box(P          R      mAP50  mAP50-95): 100%|██████████| 7/7 [00:01<00:00,  3.90it/s]"
          ]
        },
        {
          "output_type": "stream",
          "name": "stdout",
          "text": [
            "                   all        218        220      0.981      0.972      0.994      0.877\n"
          ]
        },
        {
          "output_type": "stream",
          "name": "stderr",
          "text": [
            "\n"
          ]
        },
        {
          "output_type": "stream",
          "name": "stdout",
          "text": [
            "\n",
            "      Epoch    GPU_mem   box_loss   cls_loss   dfl_loss  Instances       Size\n"
          ]
        },
        {
          "output_type": "stream",
          "name": "stderr",
          "text": [
            "      19/50      5.77G     0.6144     0.4247      1.062          5        416: 100%|██████████| 165/165 [00:50<00:00,  3.28it/s]\n",
            "                 Class     Images  Instances      Box(P          R      mAP50  mAP50-95): 100%|██████████| 7/7 [00:01<00:00,  4.06it/s]"
          ]
        },
        {
          "output_type": "stream",
          "name": "stdout",
          "text": [
            "                   all        218        220      0.969       0.98      0.993      0.881\n"
          ]
        },
        {
          "output_type": "stream",
          "name": "stderr",
          "text": [
            "\n"
          ]
        },
        {
          "output_type": "stream",
          "name": "stdout",
          "text": [
            "\n",
            "      Epoch    GPU_mem   box_loss   cls_loss   dfl_loss  Instances       Size\n"
          ]
        },
        {
          "output_type": "stream",
          "name": "stderr",
          "text": [
            "      20/50      5.83G     0.6196     0.4216       1.06          9        416: 100%|██████████| 165/165 [00:50<00:00,  3.27it/s]\n",
            "                 Class     Images  Instances      Box(P          R      mAP50  mAP50-95): 100%|██████████| 7/7 [00:01<00:00,  4.04it/s]"
          ]
        },
        {
          "output_type": "stream",
          "name": "stdout",
          "text": [
            "                   all        218        220      0.964      0.982      0.993      0.878\n"
          ]
        },
        {
          "output_type": "stream",
          "name": "stderr",
          "text": [
            "\n"
          ]
        },
        {
          "output_type": "stream",
          "name": "stdout",
          "text": [
            "\n",
            "      Epoch    GPU_mem   box_loss   cls_loss   dfl_loss  Instances       Size\n"
          ]
        },
        {
          "output_type": "stream",
          "name": "stderr",
          "text": [
            "      21/50      5.87G     0.6118     0.4242       1.06          9        416: 100%|██████████| 165/165 [00:49<00:00,  3.35it/s]\n",
            "                 Class     Images  Instances      Box(P          R      mAP50  mAP50-95): 100%|██████████| 7/7 [00:01<00:00,  3.74it/s]"
          ]
        },
        {
          "output_type": "stream",
          "name": "stdout",
          "text": [
            "                   all        218        220      0.972      0.991      0.994      0.881\n"
          ]
        },
        {
          "output_type": "stream",
          "name": "stderr",
          "text": [
            "\n"
          ]
        },
        {
          "output_type": "stream",
          "name": "stdout",
          "text": [
            "\n",
            "      Epoch    GPU_mem   box_loss   cls_loss   dfl_loss  Instances       Size\n"
          ]
        },
        {
          "output_type": "stream",
          "name": "stderr",
          "text": [
            "      22/50      5.97G     0.5983     0.4057      1.045          7        416: 100%|██████████| 165/165 [00:50<00:00,  3.27it/s]\n",
            "                 Class     Images  Instances      Box(P          R      mAP50  mAP50-95): 100%|██████████| 7/7 [00:02<00:00,  2.93it/s]"
          ]
        },
        {
          "output_type": "stream",
          "name": "stdout",
          "text": [
            "                   all        218        220      0.973      0.985       0.99      0.867\n"
          ]
        },
        {
          "output_type": "stream",
          "name": "stderr",
          "text": [
            "\n"
          ]
        },
        {
          "output_type": "stream",
          "name": "stdout",
          "text": [
            "\n",
            "      Epoch    GPU_mem   box_loss   cls_loss   dfl_loss  Instances       Size\n"
          ]
        },
        {
          "output_type": "stream",
          "name": "stderr",
          "text": [
            "      23/50      6.06G      0.592     0.3941      1.045         14        416: 100%|██████████| 165/165 [00:48<00:00,  3.39it/s]\n",
            "                 Class     Images  Instances      Box(P          R      mAP50  mAP50-95): 100%|██████████| 7/7 [00:01<00:00,  4.05it/s]"
          ]
        },
        {
          "output_type": "stream",
          "name": "stdout",
          "text": [
            "                   all        218        220      0.985      0.986      0.994      0.882\n"
          ]
        },
        {
          "output_type": "stream",
          "name": "stderr",
          "text": [
            "\n"
          ]
        },
        {
          "output_type": "stream",
          "name": "stdout",
          "text": [
            "\n",
            "      Epoch    GPU_mem   box_loss   cls_loss   dfl_loss  Instances       Size\n"
          ]
        },
        {
          "output_type": "stream",
          "name": "stderr",
          "text": [
            "      24/50      6.18G     0.5946      0.394      1.046          6        416: 100%|██████████| 165/165 [00:50<00:00,  3.26it/s]\n",
            "                 Class     Images  Instances      Box(P          R      mAP50  mAP50-95): 100%|██████████| 7/7 [00:01<00:00,  4.05it/s]"
          ]
        },
        {
          "output_type": "stream",
          "name": "stdout",
          "text": [
            "                   all        218        220      0.977      0.987      0.994      0.873\n"
          ]
        },
        {
          "output_type": "stream",
          "name": "stderr",
          "text": [
            "\n"
          ]
        },
        {
          "output_type": "stream",
          "name": "stdout",
          "text": [
            "\n",
            "      Epoch    GPU_mem   box_loss   cls_loss   dfl_loss  Instances       Size\n"
          ]
        },
        {
          "output_type": "stream",
          "name": "stderr",
          "text": [
            "      25/50      6.28G     0.5862     0.3842       1.04          9        416: 100%|██████████| 165/165 [00:49<00:00,  3.34it/s]\n",
            "                 Class     Images  Instances      Box(P          R      mAP50  mAP50-95): 100%|██████████| 7/7 [00:01<00:00,  4.03it/s]"
          ]
        },
        {
          "output_type": "stream",
          "name": "stdout",
          "text": [
            "                   all        218        220      0.988      0.991      0.995      0.891\n"
          ]
        },
        {
          "output_type": "stream",
          "name": "stderr",
          "text": [
            "\n"
          ]
        },
        {
          "output_type": "stream",
          "name": "stdout",
          "text": [
            "\n",
            "      Epoch    GPU_mem   box_loss   cls_loss   dfl_loss  Instances       Size\n"
          ]
        },
        {
          "output_type": "stream",
          "name": "stderr",
          "text": [
            "      26/50      6.42G     0.5777     0.3795      1.037          8        416: 100%|██████████| 165/165 [00:50<00:00,  3.24it/s]\n",
            "                 Class     Images  Instances      Box(P          R      mAP50  mAP50-95): 100%|██████████| 7/7 [00:01<00:00,  4.05it/s]"
          ]
        },
        {
          "output_type": "stream",
          "name": "stdout",
          "text": [
            "                   all        218        220      0.977      0.993      0.995      0.879\n"
          ]
        },
        {
          "output_type": "stream",
          "name": "stderr",
          "text": [
            "\n"
          ]
        },
        {
          "output_type": "stream",
          "name": "stdout",
          "text": [
            "\n",
            "      Epoch    GPU_mem   box_loss   cls_loss   dfl_loss  Instances       Size\n"
          ]
        },
        {
          "output_type": "stream",
          "name": "stderr",
          "text": [
            "      27/50      6.52G     0.5787      0.382      1.039         10        416: 100%|██████████| 165/165 [00:48<00:00,  3.39it/s]\n",
            "                 Class     Images  Instances      Box(P          R      mAP50  mAP50-95): 100%|██████████| 7/7 [00:02<00:00,  3.39it/s]"
          ]
        },
        {
          "output_type": "stream",
          "name": "stdout",
          "text": [
            "                   all        218        220      0.982      0.988      0.994      0.882\n"
          ]
        },
        {
          "output_type": "stream",
          "name": "stderr",
          "text": [
            "\n"
          ]
        },
        {
          "output_type": "stream",
          "name": "stdout",
          "text": [
            "\n",
            "      Epoch    GPU_mem   box_loss   cls_loss   dfl_loss  Instances       Size\n"
          ]
        },
        {
          "output_type": "stream",
          "name": "stderr",
          "text": [
            "      28/50      6.64G     0.5597     0.3625       1.02          9        416: 100%|██████████| 165/165 [00:48<00:00,  3.37it/s]\n",
            "                 Class     Images  Instances      Box(P          R      mAP50  mAP50-95): 100%|██████████| 7/7 [00:01<00:00,  4.08it/s]"
          ]
        },
        {
          "output_type": "stream",
          "name": "stdout",
          "text": [
            "                   all        218        220      0.973      0.983      0.992      0.892\n"
          ]
        },
        {
          "output_type": "stream",
          "name": "stderr",
          "text": [
            "\n"
          ]
        },
        {
          "output_type": "stream",
          "name": "stdout",
          "text": [
            "\n",
            "      Epoch    GPU_mem   box_loss   cls_loss   dfl_loss  Instances       Size\n"
          ]
        },
        {
          "output_type": "stream",
          "name": "stderr",
          "text": [
            "      29/50      6.72G     0.5544     0.3604      1.019          6        416: 100%|██████████| 165/165 [00:50<00:00,  3.27it/s]\n",
            "                 Class     Images  Instances      Box(P          R      mAP50  mAP50-95): 100%|██████████| 7/7 [00:01<00:00,  4.04it/s]"
          ]
        },
        {
          "output_type": "stream",
          "name": "stdout",
          "text": [
            "                   all        218        220      0.968      0.991      0.994      0.896\n"
          ]
        },
        {
          "output_type": "stream",
          "name": "stderr",
          "text": [
            "\n"
          ]
        },
        {
          "output_type": "stream",
          "name": "stdout",
          "text": [
            "\n",
            "      Epoch    GPU_mem   box_loss   cls_loss   dfl_loss  Instances       Size\n"
          ]
        },
        {
          "output_type": "stream",
          "name": "stderr",
          "text": [
            "      30/50      6.87G     0.5447     0.3521      1.016          8        416: 100%|██████████| 165/165 [00:50<00:00,  3.26it/s]\n",
            "                 Class     Images  Instances      Box(P          R      mAP50  mAP50-95): 100%|██████████| 7/7 [00:01<00:00,  4.04it/s]"
          ]
        },
        {
          "output_type": "stream",
          "name": "stdout",
          "text": [
            "                   all        218        220      0.979      0.974      0.994      0.896\n"
          ]
        },
        {
          "output_type": "stream",
          "name": "stderr",
          "text": [
            "\n"
          ]
        },
        {
          "output_type": "stream",
          "name": "stdout",
          "text": [
            "\n",
            "      Epoch    GPU_mem   box_loss   cls_loss   dfl_loss  Instances       Size\n"
          ]
        },
        {
          "output_type": "stream",
          "name": "stderr",
          "text": [
            "      31/50      6.99G     0.5507     0.3524      1.014         11        416: 100%|██████████| 165/165 [00:49<00:00,  3.35it/s]\n",
            "                 Class     Images  Instances      Box(P          R      mAP50  mAP50-95): 100%|██████████| 7/7 [00:02<00:00,  3.17it/s]"
          ]
        },
        {
          "output_type": "stream",
          "name": "stdout",
          "text": [
            "                   all        218        220      0.982       0.99      0.994      0.892\n"
          ]
        },
        {
          "output_type": "stream",
          "name": "stderr",
          "text": [
            "\n"
          ]
        },
        {
          "output_type": "stream",
          "name": "stdout",
          "text": [
            "\n",
            "      Epoch    GPU_mem   box_loss   cls_loss   dfl_loss  Instances       Size\n"
          ]
        },
        {
          "output_type": "stream",
          "name": "stderr",
          "text": [
            "      32/50       7.1G      0.535     0.3558      1.002          6        416: 100%|██████████| 165/165 [00:48<00:00,  3.38it/s]\n",
            "                 Class     Images  Instances      Box(P          R      mAP50  mAP50-95): 100%|██████████| 7/7 [00:01<00:00,  4.09it/s]"
          ]
        },
        {
          "output_type": "stream",
          "name": "stdout",
          "text": [
            "                   all        218        220      0.971      0.985      0.994      0.894\n"
          ]
        },
        {
          "output_type": "stream",
          "name": "stderr",
          "text": [
            "\n"
          ]
        },
        {
          "output_type": "stream",
          "name": "stdout",
          "text": [
            "\n",
            "      Epoch    GPU_mem   box_loss   cls_loss   dfl_loss  Instances       Size\n"
          ]
        },
        {
          "output_type": "stream",
          "name": "stderr",
          "text": [
            "      33/50       7.2G     0.5342      0.347      1.008          8        416: 100%|██████████| 165/165 [00:49<00:00,  3.33it/s]\n",
            "                 Class     Images  Instances      Box(P          R      mAP50  mAP50-95): 100%|██████████| 7/7 [00:01<00:00,  3.93it/s]"
          ]
        },
        {
          "output_type": "stream",
          "name": "stdout",
          "text": [
            "                   all        218        220       0.98       0.99      0.994      0.899\n"
          ]
        },
        {
          "output_type": "stream",
          "name": "stderr",
          "text": [
            "\n"
          ]
        },
        {
          "output_type": "stream",
          "name": "stdout",
          "text": [
            "\n",
            "      Epoch    GPU_mem   box_loss   cls_loss   dfl_loss  Instances       Size\n"
          ]
        },
        {
          "output_type": "stream",
          "name": "stderr",
          "text": [
            "      34/50      7.33G     0.5228     0.3375      1.001          5        416: 100%|██████████| 165/165 [00:50<00:00,  3.24it/s]\n",
            "                 Class     Images  Instances      Box(P          R      mAP50  mAP50-95): 100%|██████████| 7/7 [00:01<00:00,  4.02it/s]"
          ]
        },
        {
          "output_type": "stream",
          "name": "stdout",
          "text": [
            "                   all        218        220      0.991       0.99      0.994      0.896\n"
          ]
        },
        {
          "output_type": "stream",
          "name": "stderr",
          "text": [
            "\n"
          ]
        },
        {
          "output_type": "stream",
          "name": "stdout",
          "text": [
            "\n",
            "      Epoch    GPU_mem   box_loss   cls_loss   dfl_loss  Instances       Size\n"
          ]
        },
        {
          "output_type": "stream",
          "name": "stderr",
          "text": [
            "      35/50      7.44G     0.5376     0.3461      1.005          5        416: 100%|██████████| 165/165 [00:49<00:00,  3.36it/s]\n",
            "                 Class     Images  Instances      Box(P          R      mAP50  mAP50-95): 100%|██████████| 7/7 [00:01<00:00,  4.07it/s]"
          ]
        },
        {
          "output_type": "stream",
          "name": "stdout",
          "text": [
            "                   all        218        220       0.99       0.99      0.994      0.888\n"
          ]
        },
        {
          "output_type": "stream",
          "name": "stderr",
          "text": [
            "\n"
          ]
        },
        {
          "output_type": "stream",
          "name": "stdout",
          "text": [
            "\n",
            "      Epoch    GPU_mem   box_loss   cls_loss   dfl_loss  Instances       Size\n"
          ]
        },
        {
          "output_type": "stream",
          "name": "stderr",
          "text": [
            "      36/50      4.18G     0.5232     0.3297     0.9972         10        416: 100%|██████████| 165/165 [00:48<00:00,  3.40it/s]\n",
            "                 Class     Images  Instances      Box(P          R      mAP50  mAP50-95): 100%|██████████| 7/7 [00:02<00:00,  3.03it/s]"
          ]
        },
        {
          "output_type": "stream",
          "name": "stdout",
          "text": [
            "                   all        218        220      0.986      0.986      0.995      0.905\n"
          ]
        },
        {
          "output_type": "stream",
          "name": "stderr",
          "text": [
            "\n"
          ]
        },
        {
          "output_type": "stream",
          "name": "stdout",
          "text": [
            "\n",
            "      Epoch    GPU_mem   box_loss   cls_loss   dfl_loss  Instances       Size\n"
          ]
        },
        {
          "output_type": "stream",
          "name": "stderr",
          "text": [
            "      37/50      4.18G       0.52     0.3361      1.002          7        416: 100%|██████████| 165/165 [00:49<00:00,  3.31it/s]\n",
            "                 Class     Images  Instances      Box(P          R      mAP50  mAP50-95): 100%|██████████| 7/7 [00:01<00:00,  3.67it/s]"
          ]
        },
        {
          "output_type": "stream",
          "name": "stdout",
          "text": [
            "                   all        218        220      0.988      0.985      0.994      0.897\n"
          ]
        },
        {
          "output_type": "stream",
          "name": "stderr",
          "text": [
            "\n"
          ]
        },
        {
          "output_type": "stream",
          "name": "stdout",
          "text": [
            "\n",
            "      Epoch    GPU_mem   box_loss   cls_loss   dfl_loss  Instances       Size\n"
          ]
        },
        {
          "output_type": "stream",
          "name": "stderr",
          "text": [
            "      38/50      4.18G      0.509     0.3201     0.9924         10        416: 100%|██████████| 165/165 [00:48<00:00,  3.37it/s]\n",
            "                 Class     Images  Instances      Box(P          R      mAP50  mAP50-95): 100%|██████████| 7/7 [00:01<00:00,  4.06it/s]"
          ]
        },
        {
          "output_type": "stream",
          "name": "stdout",
          "text": [
            "                   all        218        220      0.983      0.975      0.994      0.905\n"
          ]
        },
        {
          "output_type": "stream",
          "name": "stderr",
          "text": [
            "\n"
          ]
        },
        {
          "output_type": "stream",
          "name": "stdout",
          "text": [
            "\n",
            "      Epoch    GPU_mem   box_loss   cls_loss   dfl_loss  Instances       Size\n"
          ]
        },
        {
          "output_type": "stream",
          "name": "stderr",
          "text": [
            "      39/50      4.18G     0.4961     0.3088     0.9877          7        416: 100%|██████████| 165/165 [00:49<00:00,  3.36it/s]\n",
            "                 Class     Images  Instances      Box(P          R      mAP50  mAP50-95): 100%|██████████| 7/7 [00:01<00:00,  4.08it/s]"
          ]
        },
        {
          "output_type": "stream",
          "name": "stdout",
          "text": [
            "                   all        218        220      0.986      0.982      0.995      0.905\n"
          ]
        },
        {
          "output_type": "stream",
          "name": "stderr",
          "text": [
            "\n"
          ]
        },
        {
          "output_type": "stream",
          "name": "stdout",
          "text": [
            "\n",
            "      Epoch    GPU_mem   box_loss   cls_loss   dfl_loss  Instances       Size\n"
          ]
        },
        {
          "output_type": "stream",
          "name": "stderr",
          "text": [
            "      40/50      4.18G     0.5052     0.3121     0.9861          5        416: 100%|██████████| 165/165 [00:51<00:00,  3.23it/s]\n",
            "                 Class     Images  Instances      Box(P          R      mAP50  mAP50-95): 100%|██████████| 7/7 [00:01<00:00,  4.09it/s]"
          ]
        },
        {
          "output_type": "stream",
          "name": "stdout",
          "text": [
            "                   all        218        220      0.983      0.983      0.994      0.908\n"
          ]
        },
        {
          "output_type": "stream",
          "name": "stderr",
          "text": [
            "\n"
          ]
        },
        {
          "output_type": "stream",
          "name": "stdout",
          "text": [
            "Closing dataloader mosaic\n",
            "\u001b[34m\u001b[1malbumentations: \u001b[0mBlur(p=0.01, blur_limit=(3, 7)), MedianBlur(p=0.01, blur_limit=(3, 7)), ToGray(p=0.01, method='weighted_average', num_output_channels=3), CLAHE(p=0.01, clip_limit=(1.0, 4.0), tile_grid_size=(8, 8))\n",
            "\n",
            "      Epoch    GPU_mem   box_loss   cls_loss   dfl_loss  Instances       Size\n"
          ]
        },
        {
          "output_type": "stream",
          "name": "stderr",
          "text": [
            "      41/50      4.18G     0.4252     0.2307     0.9093          4        416: 100%|██████████| 165/165 [00:50<00:00,  3.24it/s]\n",
            "                 Class     Images  Instances      Box(P          R      mAP50  mAP50-95): 100%|██████████| 7/7 [00:02<00:00,  3.28it/s]"
          ]
        },
        {
          "output_type": "stream",
          "name": "stdout",
          "text": [
            "                   all        218        220      0.986      0.978      0.994       0.89\n"
          ]
        },
        {
          "output_type": "stream",
          "name": "stderr",
          "text": [
            "\n"
          ]
        },
        {
          "output_type": "stream",
          "name": "stdout",
          "text": [
            "\n",
            "      Epoch    GPU_mem   box_loss   cls_loss   dfl_loss  Instances       Size\n"
          ]
        },
        {
          "output_type": "stream",
          "name": "stderr",
          "text": [
            "      42/50      4.33G     0.4213     0.2245      0.911          4        416: 100%|██████████| 165/165 [00:48<00:00,  3.40it/s]\n",
            "                 Class     Images  Instances      Box(P          R      mAP50  mAP50-95): 100%|██████████| 7/7 [00:01<00:00,  4.10it/s]"
          ]
        },
        {
          "output_type": "stream",
          "name": "stdout",
          "text": [
            "                   all        218        220      0.988      0.985      0.994      0.901\n"
          ]
        },
        {
          "output_type": "stream",
          "name": "stderr",
          "text": [
            "\n"
          ]
        },
        {
          "output_type": "stream",
          "name": "stdout",
          "text": [
            "\n",
            "      Epoch    GPU_mem   box_loss   cls_loss   dfl_loss  Instances       Size\n"
          ]
        },
        {
          "output_type": "stream",
          "name": "stderr",
          "text": [
            "      43/50      4.44G     0.4133     0.2141     0.9066          4        416: 100%|██████████| 165/165 [00:48<00:00,  3.38it/s]\n",
            "                 Class     Images  Instances      Box(P          R      mAP50  mAP50-95): 100%|██████████| 7/7 [00:01<00:00,  4.03it/s]"
          ]
        },
        {
          "output_type": "stream",
          "name": "stdout",
          "text": [
            "                   all        218        220      0.985      0.981      0.994        0.9\n"
          ]
        },
        {
          "output_type": "stream",
          "name": "stderr",
          "text": [
            "\n"
          ]
        },
        {
          "output_type": "stream",
          "name": "stdout",
          "text": [
            "\n",
            "      Epoch    GPU_mem   box_loss   cls_loss   dfl_loss  Instances       Size\n"
          ]
        },
        {
          "output_type": "stream",
          "name": "stderr",
          "text": [
            "      44/50      4.56G     0.3999     0.2076     0.8954          4        416: 100%|██████████| 165/165 [00:48<00:00,  3.38it/s]\n",
            "                 Class     Images  Instances      Box(P          R      mAP50  mAP50-95): 100%|██████████| 7/7 [00:01<00:00,  3.87it/s]"
          ]
        },
        {
          "output_type": "stream",
          "name": "stdout",
          "text": [
            "                   all        218        220      0.994      0.981      0.995      0.907\n"
          ]
        },
        {
          "output_type": "stream",
          "name": "stderr",
          "text": [
            "\n"
          ]
        },
        {
          "output_type": "stream",
          "name": "stdout",
          "text": [
            "\n",
            "      Epoch    GPU_mem   box_loss   cls_loss   dfl_loss  Instances       Size\n"
          ]
        },
        {
          "output_type": "stream",
          "name": "stderr",
          "text": [
            "      45/50      4.64G     0.3961      0.208     0.8908          4        416: 100%|██████████| 165/165 [00:48<00:00,  3.40it/s]\n",
            "                 Class     Images  Instances      Box(P          R      mAP50  mAP50-95): 100%|██████████| 7/7 [00:01<00:00,  3.73it/s]"
          ]
        },
        {
          "output_type": "stream",
          "name": "stdout",
          "text": [
            "                   all        218        220      0.995      0.995      0.995      0.901\n"
          ]
        },
        {
          "output_type": "stream",
          "name": "stderr",
          "text": [
            "\n"
          ]
        },
        {
          "output_type": "stream",
          "name": "stdout",
          "text": [
            "\n",
            "      Epoch    GPU_mem   box_loss   cls_loss   dfl_loss  Instances       Size\n"
          ]
        },
        {
          "output_type": "stream",
          "name": "stderr",
          "text": [
            "      46/50      4.79G     0.3843     0.1939     0.8891          4        416: 100%|██████████| 165/165 [00:48<00:00,  3.40it/s]\n",
            "                 Class     Images  Instances      Box(P          R      mAP50  mAP50-95): 100%|██████████| 7/7 [00:01<00:00,  4.10it/s]"
          ]
        },
        {
          "output_type": "stream",
          "name": "stdout",
          "text": [
            "                   all        218        220      0.994      0.995      0.995      0.908\n"
          ]
        },
        {
          "output_type": "stream",
          "name": "stderr",
          "text": [
            "\n"
          ]
        },
        {
          "output_type": "stream",
          "name": "stdout",
          "text": [
            "\n",
            "      Epoch    GPU_mem   box_loss   cls_loss   dfl_loss  Instances       Size\n"
          ]
        },
        {
          "output_type": "stream",
          "name": "stderr",
          "text": [
            "      47/50      4.91G     0.3769     0.1913     0.8841          4        416: 100%|██████████| 165/165 [00:50<00:00,  3.29it/s]\n",
            "                 Class     Images  Instances      Box(P          R      mAP50  mAP50-95): 100%|██████████| 7/7 [00:01<00:00,  4.13it/s]"
          ]
        },
        {
          "output_type": "stream",
          "name": "stdout",
          "text": [
            "                   all        218        220      0.995      0.995      0.995       0.91\n"
          ]
        },
        {
          "output_type": "stream",
          "name": "stderr",
          "text": [
            "\n"
          ]
        },
        {
          "output_type": "stream",
          "name": "stdout",
          "text": [
            "\n",
            "      Epoch    GPU_mem   box_loss   cls_loss   dfl_loss  Instances       Size\n"
          ]
        },
        {
          "output_type": "stream",
          "name": "stderr",
          "text": [
            "      48/50      5.02G     0.3704     0.1836     0.8815          4        416: 100%|██████████| 165/165 [00:50<00:00,  3.26it/s]\n",
            "                 Class     Images  Instances      Box(P          R      mAP50  mAP50-95): 100%|██████████| 7/7 [00:01<00:00,  4.09it/s]"
          ]
        },
        {
          "output_type": "stream",
          "name": "stdout",
          "text": [
            "                   all        218        220      0.992      0.993      0.995      0.909\n"
          ]
        },
        {
          "output_type": "stream",
          "name": "stderr",
          "text": [
            "\n"
          ]
        },
        {
          "output_type": "stream",
          "name": "stdout",
          "text": [
            "\n",
            "      Epoch    GPU_mem   box_loss   cls_loss   dfl_loss  Instances       Size\n"
          ]
        },
        {
          "output_type": "stream",
          "name": "stderr",
          "text": [
            "      49/50      5.11G     0.3663      0.183     0.8744          4        416: 100%|██████████| 165/165 [00:48<00:00,  3.41it/s]\n",
            "                 Class     Images  Instances      Box(P          R      mAP50  mAP50-95): 100%|██████████| 7/7 [00:02<00:00,  3.31it/s]"
          ]
        },
        {
          "output_type": "stream",
          "name": "stdout",
          "text": [
            "                   all        218        220       0.98      0.994      0.995      0.909\n"
          ]
        },
        {
          "output_type": "stream",
          "name": "stderr",
          "text": [
            "\n"
          ]
        },
        {
          "output_type": "stream",
          "name": "stdout",
          "text": [
            "\n",
            "      Epoch    GPU_mem   box_loss   cls_loss   dfl_loss  Instances       Size\n"
          ]
        },
        {
          "output_type": "stream",
          "name": "stderr",
          "text": [
            "      50/50      5.25G     0.3586     0.1755     0.8685          4        416: 100%|██████████| 165/165 [00:48<00:00,  3.42it/s]\n",
            "                 Class     Images  Instances      Box(P          R      mAP50  mAP50-95): 100%|██████████| 7/7 [00:01<00:00,  4.09it/s]"
          ]
        },
        {
          "output_type": "stream",
          "name": "stdout",
          "text": [
            "                   all        218        220       0.99       0.99      0.995      0.909\n"
          ]
        },
        {
          "output_type": "stream",
          "name": "stderr",
          "text": [
            "\n"
          ]
        },
        {
          "output_type": "stream",
          "name": "stdout",
          "text": [
            "\n",
            "50 epochs completed in 0.735 hours.\n",
            "Optimizer stripped from /content/drive/MyDrive/cataract-yolo11/exp_50epochs/weights/last.pt, 40.5MB\n",
            "Optimizer stripped from /content/drive/MyDrive/cataract-yolo11/exp_50epochs/weights/best.pt, 40.5MB\n",
            "\n",
            "Validating /content/drive/MyDrive/cataract-yolo11/exp_50epochs/weights/best.pt...\n",
            "Ultralytics 8.3.169 🚀 Python-3.11.13 torch-2.6.0+cu124 CUDA:0 (Tesla T4, 15095MiB)\n",
            "YOLO11m summary (fused): 125 layers, 20,031,574 parameters, 0 gradients, 67.7 GFLOPs\n"
          ]
        },
        {
          "output_type": "stream",
          "name": "stderr",
          "text": [
            "                 Class     Images  Instances      Box(P          R      mAP50  mAP50-95): 100%|██████████| 7/7 [00:04<00:00,  1.74it/s]\n"
          ]
        },
        {
          "output_type": "stream",
          "name": "stdout",
          "text": [
            "                   all        218        220      0.995      0.995      0.995       0.91\n",
            "              Cataract        119        119       0.99          1      0.995      0.915\n",
            "                Normal        101        101          1       0.99      0.995      0.904\n",
            "Speed: 0.2ms preprocess, 5.9ms inference, 0.0ms loss, 3.9ms postprocess per image\n",
            "Results saved to \u001b[1m/content/drive/MyDrive/cataract-yolo11/exp_50epochs\u001b[0m\n"
          ]
        }
      ]
    },
    {
      "cell_type": "code",
      "source": [
        "test_results = model.predict(\n",
        "    source=f'{dataset.location}/valid/images',\n",
        "    save=True,\n",
        "    conf=0.25,\n",
        "    save_txt=True\n",
        ")"
      ],
      "metadata": {
        "colab": {
          "base_uri": "https://localhost:8080/"
        },
        "id": "JI7xVW9VOe_3",
        "outputId": "7f541d23-a06a-4d40-9e48-096a28ac2d43"
      },
      "execution_count": null,
      "outputs": [
        {
          "output_type": "stream",
          "name": "stdout",
          "text": [
            "\n",
            "image 1/218 /content/Kataract-Object-Detection-3/valid/images/Mature-14_jpg.rf.2553d7bacf706af1e3ceffa314ce5453.jpg: 416x416 1 Cataract, 21.6ms\n",
            "image 2/218 /content/Kataract-Object-Detection-3/valid/images/Mature-19_jpg.rf.d07e5c5101ca4f4a304fb314a716dab5.jpg: 416x416 1 Cataract, 21.6ms\n",
            "image 3/218 /content/Kataract-Object-Detection-3/valid/images/Mature-28_jpg.rf.9e4481e02d2cce55703af6713c4b1974.jpg: 416x416 1 Cataract, 21.6ms\n",
            "image 4/218 /content/Kataract-Object-Detection-3/valid/images/Mature-2_jpg.rf.9d25d0a127e781ab9eacdb83a08013a4.jpg: 416x416 1 Cataract, 21.6ms\n",
            "image 5/218 /content/Kataract-Object-Detection-3/valid/images/Mature-35_jpg.rf.1dab3c7d67d43538d4d1c49a8652ab96.jpg: 416x416 1 Cataract, 21.6ms\n",
            "image 6/218 /content/Kataract-Object-Detection-3/valid/images/Mature-38_jpg.rf.a846f0d1199ffa4dd0dfe16353e01b5a.jpg: 416x416 1 Cataract, 21.6ms\n",
            "image 7/218 /content/Kataract-Object-Detection-3/valid/images/Mature-39_jpg.rf.65370bd29f4106d2442cd62d5039f8a9.jpg: 416x416 1 Cataract, 21.6ms\n",
            "image 8/218 /content/Kataract-Object-Detection-3/valid/images/Mature-41_jpg.rf.e3391bc1b3dd9ac1bc378c0ff68bdac1.jpg: 416x416 1 Cataract, 17.1ms\n",
            "image 9/218 /content/Kataract-Object-Detection-3/valid/images/Mature-45_jpg.rf.199996b1d5c6d2a58e5fd0d3a84c2335.jpg: 416x416 1 Cataract, 17.1ms\n",
            "image 10/218 /content/Kataract-Object-Detection-3/valid/images/Mature-46_jpg.rf.6d4ea78956f57825a292683396ca9e93.jpg: 416x416 1 Cataract, 17.1ms\n",
            "image 11/218 /content/Kataract-Object-Detection-3/valid/images/Mature-51_jpg.rf.8c3bff6be29b694899d62b84c2701eba.jpg: 416x416 1 Cataract, 17.2ms\n",
            "image 12/218 /content/Kataract-Object-Detection-3/valid/images/Normal-12_jpg.rf.5724f0b64d0323f5a26df466b567a5ed.jpg: 416x416 1 Normal, 17.1ms\n",
            "image 13/218 /content/Kataract-Object-Detection-3/valid/images/Normal-23_jpg.rf.75b8249ff4efa528c0b1bd660a08b586.jpg: 416x416 1 Normal, 17.1ms\n",
            "image 14/218 /content/Kataract-Object-Detection-3/valid/images/Normal-29_jpg.rf.18067c0cae08fe8bc47621860f0761f8.jpg: 416x416 1 Cataract, 17.1ms\n",
            "image 15/218 /content/Kataract-Object-Detection-3/valid/images/Normal-4_jpg.rf.aed9670093b3beb1ab0dc937280270b3.jpg: 416x416 1 Normal, 17.1ms\n",
            "image 16/218 /content/Kataract-Object-Detection-3/valid/images/Normal-5_jpg.rf.ed3db5ff76a79f29279d2b36fdcfa939.jpg: 416x416 1 Normal, 17.1ms\n",
            "image 17/218 /content/Kataract-Object-Detection-3/valid/images/cataract108_png.rf.1979088a28d20c8a2b3765204e2c4369.jpg: 416x416 1 Normal, 15.9ms\n",
            "image 18/218 /content/Kataract-Object-Detection-3/valid/images/cataract122_png.rf.9a0c261ca58fcfa76fa463e2ef9d959c.jpg: 416x416 1 Cataract, 15.9ms\n",
            "image 19/218 /content/Kataract-Object-Detection-3/valid/images/cataract128_png.rf.cb594ba3c7815325af22223f6f71fc0b.jpg: 416x416 1 Cataract, 15.8ms\n",
            "image 20/218 /content/Kataract-Object-Detection-3/valid/images/cataract140_png.rf.d859f2a7a178c4b98b76727eb76059a4.jpg: 416x416 1 Cataract, 1 Normal, 15.9ms\n",
            "image 21/218 /content/Kataract-Object-Detection-3/valid/images/cataract144_png.rf.f5bcbf7f2ee09d1f434478b02b565083.jpg: 416x416 1 Cataract, 15.9ms\n",
            "image 22/218 /content/Kataract-Object-Detection-3/valid/images/cataract145_png.rf.08b0ed65f8d763951b639ad89e72d8a0.jpg: 416x416 1 Cataract, 15.6ms\n",
            "image 23/218 /content/Kataract-Object-Detection-3/valid/images/cataract146_png.rf.1657fb87fba5f9e9ed2382e0dc785571.jpg: 416x416 1 Cataract, 15.6ms\n",
            "image 24/218 /content/Kataract-Object-Detection-3/valid/images/cataract151_png.rf.ee25fa328d5c9d0ae6555c066c5993cb.jpg: 416x416 1 Cataract, 15.6ms\n",
            "image 25/218 /content/Kataract-Object-Detection-3/valid/images/cataract155_png.rf.6653ac09cc109d35c4068f602c48cd1f.jpg: 416x416 1 Cataract, 15.6ms\n",
            "image 26/218 /content/Kataract-Object-Detection-3/valid/images/cataract156_png.rf.a0880b970b6c8a2fd48767e8fe77bfb3.jpg: 416x416 1 Cataract, 15.6ms\n",
            "image 27/218 /content/Kataract-Object-Detection-3/valid/images/cataract157_png.rf.9acb119cada2a802635482e00b88296e.jpg: 416x416 1 Cataract, 15.4ms\n",
            "image 28/218 /content/Kataract-Object-Detection-3/valid/images/cataract167_png.rf.62877411bb0b99ccd1c4dfa3aedbcfc7.jpg: 416x416 1 Cataract, 15.4ms\n",
            "image 29/218 /content/Kataract-Object-Detection-3/valid/images/cataract183_png.rf.e94df54ad18fc4f1c5abea97e0e18dae.jpg: 416x416 1 Cataract, 15.4ms\n",
            "image 30/218 /content/Kataract-Object-Detection-3/valid/images/cataract191_png.rf.aa57ff885fe6c488fb8cdd0c4196b38d.jpg: 416x416 1 Cataract, 15.4ms\n",
            "image 31/218 /content/Kataract-Object-Detection-3/valid/images/cataract203_png.rf.17e854e1b2542f90ca88e9807e71a7f5.jpg: 416x416 1 Cataract, 15.4ms\n",
            "image 32/218 /content/Kataract-Object-Detection-3/valid/images/cataract204_png.rf.803c14357f2f70240be61747e99905d2.jpg: 416x416 1 Cataract, 15.4ms\n",
            "image 33/218 /content/Kataract-Object-Detection-3/valid/images/cataract20_png.rf.fca6c0b72945a956160bca000468eb20.jpg: 416x416 1 Cataract, 14.5ms\n",
            "image 34/218 /content/Kataract-Object-Detection-3/valid/images/cataract218_png.rf.6aeb1f85b010ff2e6ec4ac7f005aea34.jpg: 416x416 1 Normal, 14.5ms\n",
            "image 35/218 /content/Kataract-Object-Detection-3/valid/images/cataract237_png.rf.63d1454853279b54a8821dc15e90b8da.jpg: 416x416 1 Cataract, 14.4ms\n",
            "image 36/218 /content/Kataract-Object-Detection-3/valid/images/cataract247_png.rf.b7e4d5382807a6353f6d82c4f4d43c42.jpg: 416x416 1 Cataract, 14.3ms\n",
            "image 37/218 /content/Kataract-Object-Detection-3/valid/images/cataract256_png.rf.ae16e92271bb0b8739082f31472c7b2b.jpg: 416x416 1 Cataract, 14.4ms\n",
            "image 38/218 /content/Kataract-Object-Detection-3/valid/images/cataract258_png.rf.c2608dc5628f2502b3491ec52dfe99f4.jpg: 416x416 1 Cataract, 14.2ms\n",
            "image 39/218 /content/Kataract-Object-Detection-3/valid/images/cataract262_png.rf.07186e40bbbe27cfc930f240fecd12e5.jpg: 416x416 1 Cataract, 14.2ms\n",
            "image 40/218 /content/Kataract-Object-Detection-3/valid/images/cataract273_png.rf.c8fecc38e52fe37644b6eb361a2f9e94.jpg: 416x416 1 Cataract, 14.2ms\n",
            "image 41/218 /content/Kataract-Object-Detection-3/valid/images/cataract289_png.rf.4a7b3531850bcbe59e47eaac9cec527e.jpg: 416x416 1 Cataract, 14.2ms\n",
            "image 42/218 /content/Kataract-Object-Detection-3/valid/images/cataract290_png.rf.7d2c17c693bab294d6c519b1f5ce17cd.jpg: 416x416 1 Cataract, 14.2ms\n",
            "image 43/218 /content/Kataract-Object-Detection-3/valid/images/cataract300_png.rf.e1ce2b5b9ab7a83320e54769ef9f7f9f.jpg: 416x416 2 Cataracts, 1 Normal, 14.2ms\n",
            "image 44/218 /content/Kataract-Object-Detection-3/valid/images/cataract304_png.rf.535b66cbd0a4b00e3c57698fb70a9048.jpg: 416x416 1 Normal, 13.3ms\n",
            "image 45/218 /content/Kataract-Object-Detection-3/valid/images/cataract32_png.rf.6719bf4b78323a5e85a48b1035872851.jpg: 416x416 1 Cataract, 13.2ms\n",
            "image 46/218 /content/Kataract-Object-Detection-3/valid/images/cataract36_png.rf.93ee8c1a991a214e11b9b07b5cd03cbb.jpg: 416x416 1 Cataract, 13.1ms\n",
            "image 47/218 /content/Kataract-Object-Detection-3/valid/images/cataract62_png.rf.a987e87d4033141e0f29dde06f863132.jpg: 416x416 1 Cataract, 23.6ms\n",
            "image 48/218 /content/Kataract-Object-Detection-3/valid/images/cataract70_png.rf.aa0dc96a3c168d0b50600308a2f4f41e.jpg: 416x416 1 Cataract, 22.2ms\n",
            "image 49/218 /content/Kataract-Object-Detection-3/valid/images/cataract89_png.rf.1cebeacb6d374233e4bf9f67eb003391.jpg: 416x416 1 Cataract, 20.9ms\n",
            "image 50/218 /content/Kataract-Object-Detection-3/valid/images/cataract95_png.rf.53070bffe54806385d19050f861e8422.jpg: 416x416 1 Normal, 18.9ms\n",
            "image 51/218 /content/Kataract-Object-Detection-3/valid/images/immature112_jpg.rf.b395fab07f4cce908c99b131166b6b4a.jpg: 416x416 1 Cataract, 19.3ms\n",
            "image 52/218 /content/Kataract-Object-Detection-3/valid/images/immature137_jpg.rf.d39c1cc93f5bf700141aa312fb0bf437.jpg: 416x416 1 Cataract, 13.3ms\n",
            "image 53/218 /content/Kataract-Object-Detection-3/valid/images/immature141_jpg.rf.255e8431d454da742e2b63c2f3188692.jpg: 416x416 1 Cataract, 21.5ms\n",
            "image 54/218 /content/Kataract-Object-Detection-3/valid/images/immature148_jpg.rf.d8f63132ef5ced913d4bf9460ff9c66d.jpg: 416x416 1 Cataract, 16.6ms\n",
            "image 55/218 /content/Kataract-Object-Detection-3/valid/images/immature149_jpg.rf.997a55f699e0970ae8ef3576eb6b1c42.jpg: 416x416 1 Cataract, 17.3ms\n",
            "image 56/218 /content/Kataract-Object-Detection-3/valid/images/immature155_jpg.rf.e70d696c332018e5973c86ec4adb7184.jpg: 416x416 1 Cataract, 13.8ms\n",
            "image 57/218 /content/Kataract-Object-Detection-3/valid/images/immature156_jpg.rf.51a027b32051c7fb5e7d2947234d4c3e.jpg: 416x416 1 Cataract, 15.2ms\n",
            "image 58/218 /content/Kataract-Object-Detection-3/valid/images/immature15_jpg.rf.b1e21849da748a456867bee4d6dcb0d2.jpg: 416x416 1 Cataract, 14.6ms\n",
            "image 59/218 /content/Kataract-Object-Detection-3/valid/images/immature170_jpg.rf.b3efb2d58b97363fc189a4dd85d5f5fb.jpg: 416x416 1 Cataract, 14.1ms\n",
            "image 60/218 /content/Kataract-Object-Detection-3/valid/images/immature173_jpg.rf.4f6a7a377028b5e6f1b7010b042dfec2.jpg: 416x416 1 Cataract, 15.3ms\n",
            "image 61/218 /content/Kataract-Object-Detection-3/valid/images/immature174_jpg.rf.f24144b37dc35abd8e5607b03da62fbf.jpg: 416x416 1 Cataract, 13.7ms\n",
            "image 62/218 /content/Kataract-Object-Detection-3/valid/images/immature175_jpg.rf.17f9727e8d33cf766192199f1d0cf412.jpg: 416x416 1 Cataract, 13.9ms\n",
            "image 63/218 /content/Kataract-Object-Detection-3/valid/images/immature185_jpg.rf.0c835f3e68e2bbfa77d9b36569d3832f.jpg: 416x416 1 Cataract, 13.9ms\n",
            "image 64/218 /content/Kataract-Object-Detection-3/valid/images/immature188_jpg.rf.a1e27f10d484b1feb0814de359457f53.jpg: 416x416 1 Cataract, 17.0ms\n",
            "image 65/218 /content/Kataract-Object-Detection-3/valid/images/immature191_jpg.rf.bc09a8ec3c2b77111a3589ab0a9adc87.jpg: 416x416 1 Cataract, 18.2ms\n",
            "image 66/218 /content/Kataract-Object-Detection-3/valid/images/immature195_jpg.rf.98ba723d5be395a81707eeeff5761313.jpg: 416x416 1 Cataract, 13.2ms\n",
            "image 67/218 /content/Kataract-Object-Detection-3/valid/images/immature198_jpg.rf.0908c2ebdfdfbb08cad252e857f21e58.jpg: 416x416 1 Cataract, 16.0ms\n",
            "image 68/218 /content/Kataract-Object-Detection-3/valid/images/immature199_jpg.rf.bbc9772ca38f63bf561f15d2f125bd65.jpg: 416x416 1 Cataract, 16.3ms\n",
            "image 69/218 /content/Kataract-Object-Detection-3/valid/images/immature22_jpg.rf.bf6a3e4d4de1ff0ab4fe665775e5ecfb.jpg: 416x416 1 Cataract, 16.5ms\n",
            "image 70/218 /content/Kataract-Object-Detection-3/valid/images/immature26_jpg.rf.d75d18ac36b983e81174749303371cad.jpg: 416x416 1 Cataract, 19.5ms\n",
            "image 71/218 /content/Kataract-Object-Detection-3/valid/images/immature27_jpg.rf.1915fbb492c839cc8d96e1ccd9f14bf0.jpg: 416x416 1 Cataract, 13.3ms\n",
            "image 72/218 /content/Kataract-Object-Detection-3/valid/images/immature2_jpg.rf.211a1eb64a842937e1964f19d5bb0541.jpg: 416x416 1 Cataract, 31.2ms\n",
            "image 73/218 /content/Kataract-Object-Detection-3/valid/images/immature30_jpg.rf.13e4de77cf01b2825e22a6d7f53951c0.jpg: 416x416 1 Cataract, 16.2ms\n",
            "image 74/218 /content/Kataract-Object-Detection-3/valid/images/immature31_jpg.rf.eaba82dd7068ff4728a979045a1221de.jpg: 416x416 1 Cataract, 17.6ms\n",
            "image 75/218 /content/Kataract-Object-Detection-3/valid/images/immature32_jpg.rf.fedd5c61e44fb59fc42d6668fd092cb4.jpg: 416x416 1 Cataract, 21.8ms\n",
            "image 76/218 /content/Kataract-Object-Detection-3/valid/images/immature37_jpg.rf.ccb2e01d15c7662298afc1b9fe9017b2.jpg: 416x416 1 Cataract, 19.1ms\n",
            "image 77/218 /content/Kataract-Object-Detection-3/valid/images/immature38_jpg.rf.3240d061cf41c1c318b7395e499f0346.jpg: 416x416 1 Cataract, 16.3ms\n",
            "image 78/218 /content/Kataract-Object-Detection-3/valid/images/immature39_jpg.rf.e22140fe78e7fc4bc8d56fd30b57b3d2.jpg: 416x416 1 Cataract, 18.2ms\n",
            "image 79/218 /content/Kataract-Object-Detection-3/valid/images/immature53_jpg.rf.5738d5512edf2e4ffb7480a6208ca321.jpg: 416x416 1 Cataract, 25.7ms\n",
            "image 80/218 /content/Kataract-Object-Detection-3/valid/images/immature61_jpg.rf.6690495ec71e043b650e022d05e289f0.jpg: 416x416 1 Cataract, 22.1ms\n",
            "image 81/218 /content/Kataract-Object-Detection-3/valid/images/immature71_jpg.rf.3b982972baeedd52bdfbbf27c624c54e.jpg: 416x416 1 Cataract, 16.7ms\n",
            "image 82/218 /content/Kataract-Object-Detection-3/valid/images/immature72_jpg.rf.d62f4f054b372622bcd324d23acfdf68.jpg: 416x416 1 Cataract, 14.9ms\n",
            "image 83/218 /content/Kataract-Object-Detection-3/valid/images/immature74_jpg.rf.03cb5fa74380547408914f75e2a1dd97.jpg: 416x416 1 Cataract, 17.4ms\n",
            "image 84/218 /content/Kataract-Object-Detection-3/valid/images/immature80_jpg.rf.63bc548c85b27557bc4b2fb0781b52e9.jpg: 416x416 1 Cataract, 28.5ms\n",
            "image 85/218 /content/Kataract-Object-Detection-3/valid/images/immature82_jpg.rf.eb9a86f71edff0210c1ee389c87f15ec.jpg: 416x416 1 Cataract, 22.7ms\n",
            "image 86/218 /content/Kataract-Object-Detection-3/valid/images/immature85_jpg.rf.2f182275a5ab78e733d7e5516d6bfb3a.jpg: 416x416 1 Cataract, 15.5ms\n",
            "image 87/218 /content/Kataract-Object-Detection-3/valid/images/immature95_jpg.rf.dc52d621295bc51592134b7d169b760a.jpg: 416x416 1 Cataract, 15.4ms\n",
            "image 88/218 /content/Kataract-Object-Detection-3/valid/images/immature9_jpg.rf.7637fab3565572c9e45456ea98bfb737.jpg: 416x416 1 Cataract, 16.2ms\n",
            "image 89/218 /content/Kataract-Object-Detection-3/valid/images/mature100_jpg.rf.ccc7cd6fbe88fbcb8ed37a44a4122efa.jpg: 416x416 1 Cataract, 15.7ms\n",
            "image 90/218 /content/Kataract-Object-Detection-3/valid/images/mature108_jpg.rf.6cb356890733e9c8c8d3e72d37e5c471.jpg: 416x416 1 Cataract, 17.2ms\n",
            "image 91/218 /content/Kataract-Object-Detection-3/valid/images/mature109_jpg.rf.9b304c74cc91da5f62638bf29c30393f.jpg: 416x416 1 Cataract, 15.7ms\n",
            "image 92/218 /content/Kataract-Object-Detection-3/valid/images/mature10_jpg.rf.fa84d229899dbc64d9a94ccdbf832409.jpg: 416x416 1 Cataract, 15.7ms\n",
            "image 93/218 /content/Kataract-Object-Detection-3/valid/images/mature111_jpg.rf.3934cf8a5c1e477cfb8346251a4e1b5a.jpg: 416x416 1 Cataract, 17.4ms\n",
            "image 94/218 /content/Kataract-Object-Detection-3/valid/images/mature114_jpg.rf.75809172d6cea23e5ca880350b74df9d.jpg: 416x416 1 Cataract, 16.9ms\n",
            "image 95/218 /content/Kataract-Object-Detection-3/valid/images/mature120_jpg.rf.243f7b0ac8f65fbb0bb206246ab5b15f.jpg: 416x416 1 Cataract, 15.7ms\n",
            "image 96/218 /content/Kataract-Object-Detection-3/valid/images/mature123_jpg.rf.dd037e6dabf385279016600484ae7237.jpg: 416x416 1 Cataract, 15.7ms\n",
            "image 97/218 /content/Kataract-Object-Detection-3/valid/images/mature125_jpg.rf.6ab2ecaece51e20ef4bdb96cce34a2d2.jpg: 416x416 1 Cataract, 15.6ms\n",
            "image 98/218 /content/Kataract-Object-Detection-3/valid/images/mature126_jpg.rf.26641a948210267faaa098d166e93d70.jpg: 416x416 1 Cataract, 15.6ms\n",
            "image 99/218 /content/Kataract-Object-Detection-3/valid/images/mature129_jpg.rf.8e9e53569f01693d5e2f4a2904c33974.jpg: 416x416 1 Cataract, 15.6ms\n",
            "image 100/218 /content/Kataract-Object-Detection-3/valid/images/mature133_jpg.rf.948b4ba333c3c1ab7d3fde00b419bdb2.jpg: 416x416 1 Cataract, 15.6ms\n",
            "image 101/218 /content/Kataract-Object-Detection-3/valid/images/mature145_jpg.rf.651d18326e20a24a056077b85980cc40.jpg: 416x416 1 Cataract, 15.6ms\n",
            "image 102/218 /content/Kataract-Object-Detection-3/valid/images/mature146_jpg.rf.c486a56507f7b32f5c1ec3b8455c6377.jpg: 416x416 1 Cataract, 15.6ms\n",
            "image 103/218 /content/Kataract-Object-Detection-3/valid/images/mature151_jpg.rf.4ebbb34d1b7988bf7ca7ddcd7a7e28b9.jpg: 416x416 1 Cataract, 15.6ms\n",
            "image 104/218 /content/Kataract-Object-Detection-3/valid/images/mature156_jpg.rf.8f50065811831c9f259c3765671852da.jpg: 416x416 1 Cataract, 15.8ms\n",
            "image 105/218 /content/Kataract-Object-Detection-3/valid/images/mature166_jpg.rf.03939f08e21003ae722428d15e1f10df.jpg: 416x416 1 Cataract, 20.9ms\n",
            "image 106/218 /content/Kataract-Object-Detection-3/valid/images/mature168_jpg.rf.2c0c9176b598342657778ec50e2a716d.jpg: 416x416 1 Cataract, 19.1ms\n",
            "image 107/218 /content/Kataract-Object-Detection-3/valid/images/mature169_jpg.rf.68e5254a8bbde5ef9926b7270b012697.jpg: 416x416 1 Cataract, 15.6ms\n",
            "image 108/218 /content/Kataract-Object-Detection-3/valid/images/mature16_jpg.rf.c25e8a61a99fd1bd214eb5fcef320c08.jpg: 416x416 1 Cataract, 16.4ms\n",
            "image 109/218 /content/Kataract-Object-Detection-3/valid/images/mature171_jpg.rf.815d4868cd2d8aa51395216f85ca7137.jpg: 416x416 1 Cataract, 15.6ms\n",
            "image 110/218 /content/Kataract-Object-Detection-3/valid/images/mature174_jpg.rf.48622a08055ee8998b16a737e3fbbe44.jpg: 416x416 1 Cataract, 21.4ms\n",
            "image 111/218 /content/Kataract-Object-Detection-3/valid/images/mature178_jpg.rf.52828f8633140382561af319305e2ebf.jpg: 416x416 1 Cataract, 18.2ms\n",
            "image 112/218 /content/Kataract-Object-Detection-3/valid/images/mature179_jpg.rf.a17a92d41086e6f8bf2ae10cf18d0144.jpg: 416x416 1 Cataract, 17.0ms\n",
            "image 113/218 /content/Kataract-Object-Detection-3/valid/images/mature17_jpg.rf.fe55d93fe95a1236b868680e56b61201.jpg: 416x416 1 Cataract, 21.3ms\n",
            "image 114/218 /content/Kataract-Object-Detection-3/valid/images/mature20_jpg.rf.1bf972a050ea727b1169ba9af4871596.jpg: 416x416 1 Cataract, 20.8ms\n",
            "image 115/218 /content/Kataract-Object-Detection-3/valid/images/mature21_jpg.rf.983b1b3755408225df5654b1fda000a4.jpg: 416x416 1 Cataract, 23.4ms\n",
            "image 116/218 /content/Kataract-Object-Detection-3/valid/images/mature24_jpg.rf.56faca19f67047e590cc9b3886017ffa.jpg: 416x416 1 Cataract, 22.7ms\n",
            "image 117/218 /content/Kataract-Object-Detection-3/valid/images/mature31_jpg.rf.db15f0e00e077bb07ddcd6d9d90e7245.jpg: 416x416 1 Cataract, 19.3ms\n",
            "image 118/218 /content/Kataract-Object-Detection-3/valid/images/mature35_jpg.rf.952020f8d0e80748761c3d8ac4df9b86.jpg: 416x416 1 Cataract, 19.3ms\n",
            "image 119/218 /content/Kataract-Object-Detection-3/valid/images/mature42_jpg.rf.6b880b928164e945f4c3d2679bede574.jpg: 416x416 1 Cataract, 23.8ms\n",
            "image 120/218 /content/Kataract-Object-Detection-3/valid/images/mature47_jpg.rf.c43886d426dfc558418d974862d9154f.jpg: 416x416 1 Cataract, 16.1ms\n",
            "image 121/218 /content/Kataract-Object-Detection-3/valid/images/mature4_jpg.rf.234bbdd6dd435afd9b25431e98893d83.jpg: 416x416 1 Cataract, 16.1ms\n",
            "image 122/218 /content/Kataract-Object-Detection-3/valid/images/mature51_jpg.rf.2d31b60c3301e992d5379d5594305fdb.jpg: 416x416 1 Cataract, 16.1ms\n",
            "image 123/218 /content/Kataract-Object-Detection-3/valid/images/mature52_jpg.rf.367e23c75f7f0561476823443cbd0a22.jpg: 416x416 1 Cataract, 16.1ms\n",
            "image 124/218 /content/Kataract-Object-Detection-3/valid/images/mature56_jpg.rf.562dff979d54f79d434c60c39b9afe9c.jpg: 416x416 1 Cataract, 16.1ms\n",
            "image 125/218 /content/Kataract-Object-Detection-3/valid/images/mature66_jpg.rf.0d00295a0f8dbda1232d7f8f9235df66.jpg: 416x416 1 Cataract, 16.1ms\n",
            "image 126/218 /content/Kataract-Object-Detection-3/valid/images/mature72_jpg.rf.a0ec6e1aa0774eb574bb9adc94317583.jpg: 416x416 1 Cataract, 16.1ms\n",
            "image 127/218 /content/Kataract-Object-Detection-3/valid/images/mature78_jpg.rf.e16148072ae924494a4cdd656a7efb15.jpg: 416x416 1 Cataract, 15.9ms\n",
            "image 128/218 /content/Kataract-Object-Detection-3/valid/images/mature93_jpg.rf.a8e04a8214b18273d6183b06dff17f6b.jpg: 416x416 1 Cataract, 15.8ms\n",
            "image 129/218 /content/Kataract-Object-Detection-3/valid/images/normal100_jpg.rf.21721cebfec3ca802c42d8462bbe5214.jpg: 416x416 1 Normal, 15.9ms\n",
            "image 130/218 /content/Kataract-Object-Detection-3/valid/images/normal100_png.rf.09b1c8c58e882353cfd117497e75ca84.jpg: 416x416 1 Normal, 15.8ms\n",
            "image 131/218 /content/Kataract-Object-Detection-3/valid/images/normal101_png.rf.18df1901425e0f82e5b1d92792701d24.jpg: 416x416 1 Normal, 15.9ms\n",
            "image 132/218 /content/Kataract-Object-Detection-3/valid/images/normal102_jpg.rf.d5df02c757c8b2fb26d0f9008cbeb63a.jpg: 416x416 1 Normal, 14.7ms\n",
            "image 133/218 /content/Kataract-Object-Detection-3/valid/images/normal103_png.rf.69a967fe282b42ba70f721bb4aa42b61.jpg: 416x416 1 Normal, 14.8ms\n",
            "image 134/218 /content/Kataract-Object-Detection-3/valid/images/normal108_png.rf.dffed904ad6f4c42e947b187679a9d95.jpg: 416x416 1 Normal, 14.7ms\n",
            "image 135/218 /content/Kataract-Object-Detection-3/valid/images/normal10_jpg.rf.c2929b2160f8bf98c2e8a2eee9b7329f.jpg: 416x416 1 Normal, 14.7ms\n",
            "image 136/218 /content/Kataract-Object-Detection-3/valid/images/normal110_png.rf.99d2a02cad8c2afbcbc000643364d689.jpg: 416x416 1 Normal, 14.8ms\n",
            "image 137/218 /content/Kataract-Object-Detection-3/valid/images/normal112_png.rf.0e348332655f057ebd0f0a75306851ea.jpg: 416x416 1 Normal, 14.8ms\n",
            "image 138/218 /content/Kataract-Object-Detection-3/valid/images/normal115_jpg.rf.0db1f32eaa9db1ccbf707344c1bdaff5.jpg: 416x416 1 Normal, 14.7ms\n",
            "image 139/218 /content/Kataract-Object-Detection-3/valid/images/normal118_jpg.rf.9bcf7bcf454faf67a81f0c216271941b.jpg: 416x416 1 Normal, 14.8ms\n",
            "image 140/218 /content/Kataract-Object-Detection-3/valid/images/normal120_png.rf.0c8c028ba32f11e46725152a8368f120.jpg: 416x416 1 Normal, 14.8ms\n",
            "image 141/218 /content/Kataract-Object-Detection-3/valid/images/normal123_jpg.rf.d2e16bd0fa0ee53cbee2bf1172352169.jpg: 416x416 1 Normal, 14.7ms\n",
            "image 142/218 /content/Kataract-Object-Detection-3/valid/images/normal124_jpg.rf.eda03b9bc8986550f4a0528130ed9d09.jpg: 416x416 1 Normal, 14.7ms\n",
            "image 143/218 /content/Kataract-Object-Detection-3/valid/images/normal124_png.rf.6d2c0ffb5d6aed58136f004aa330ed60.jpg: 416x416 1 Normal, 14.6ms\n",
            "image 144/218 /content/Kataract-Object-Detection-3/valid/images/normal125_jpg.rf.8136a3decdc4c78c5f6815b3bb105240.jpg: 416x416 1 Normal, 14.6ms\n",
            "image 145/218 /content/Kataract-Object-Detection-3/valid/images/normal127_jpg.rf.67bb9d83871efa5f4e468920f4f28bfc.jpg: 416x416 1 Normal, 18.9ms\n",
            "image 146/218 /content/Kataract-Object-Detection-3/valid/images/normal133_jpg.rf.f7721fa97bef98116dde4bf61a044293.jpg: 416x416 1 Normal, 14.7ms\n",
            "image 147/218 /content/Kataract-Object-Detection-3/valid/images/normal134_png.rf.8b0889732e6823aa9e0f1d4a72be15ec.jpg: 416x416 1 Normal, 14.6ms\n",
            "image 148/218 /content/Kataract-Object-Detection-3/valid/images/normal135_png.rf.a48d2618dc68aaf623c3603d0f7036f9.jpg: 416x416 1 Normal, 14.6ms\n",
            "image 149/218 /content/Kataract-Object-Detection-3/valid/images/normal137_png.rf.b3f8da368945eba2197e45645ec164eb.jpg: 416x416 1 Normal, 14.6ms\n",
            "image 150/218 /content/Kataract-Object-Detection-3/valid/images/normal138_jpg.rf.98b129fd5bb47de638a5bb87cebd166d.jpg: 416x416 1 Normal, 14.6ms\n",
            "image 151/218 /content/Kataract-Object-Detection-3/valid/images/normal142_png.rf.465ae5c057c6f15249a20f684529c283.jpg: 416x416 1 Normal, 14.6ms\n",
            "image 152/218 /content/Kataract-Object-Detection-3/valid/images/normal149_jpg.rf.70d4f541042f8e789e40b0f50c72c9d5.jpg: 416x416 1 Normal, 14.6ms\n",
            "image 153/218 /content/Kataract-Object-Detection-3/valid/images/normal149_png.rf.c4b68d54531f0c68a4eb3d4e8cbd9ffa.jpg: 416x416 1 Normal, 14.6ms\n",
            "image 154/218 /content/Kataract-Object-Detection-3/valid/images/normal157_png.rf.98bcc3dfb5725133172d2ba969fa82a0.jpg: 416x416 1 Normal, 14.6ms\n",
            "image 155/218 /content/Kataract-Object-Detection-3/valid/images/normal163_jpg.rf.84eb96a15db894a66bf883b17a7571a6.jpg: 416x416 1 Normal, 14.6ms\n",
            "image 156/218 /content/Kataract-Object-Detection-3/valid/images/normal163_png.rf.5b0df7834cbf336911d0e41bad119a73.jpg: 416x416 1 Normal, 14.6ms\n",
            "image 157/218 /content/Kataract-Object-Detection-3/valid/images/normal164_png.rf.b1982c1a48cd7df776b3358d4ddb20c1.jpg: 416x416 1 Normal, 14.6ms\n",
            "image 158/218 /content/Kataract-Object-Detection-3/valid/images/normal16_png.rf.c9d2838defc405dd248db1b9a841d934.jpg: 416x416 1 Normal, 14.6ms\n",
            "image 159/218 /content/Kataract-Object-Detection-3/valid/images/normal171_png.rf.c870816dd12cb97c5efe346f6f7a4cfe.jpg: 416x416 1 Normal, 14.6ms\n",
            "image 160/218 /content/Kataract-Object-Detection-3/valid/images/normal172_png.rf.c1aecb0b278b52df54cb2a4cae0af5d1.jpg: 416x416 1 Normal, 14.6ms\n",
            "image 161/218 /content/Kataract-Object-Detection-3/valid/images/normal174_png.rf.414d9814fddb0b8366d860379c0ed09c.jpg: 416x416 1 Normal, 14.6ms\n",
            "image 162/218 /content/Kataract-Object-Detection-3/valid/images/normal177_png.rf.9ebbed6578ab2a86901b091117283ae1.jpg: 416x416 1 Normal, 14.5ms\n",
            "image 163/218 /content/Kataract-Object-Detection-3/valid/images/normal179_jpg.rf.ca700a5ed1896b509dd7458deaea8783.jpg: 416x416 1 Normal, 14.4ms\n",
            "image 164/218 /content/Kataract-Object-Detection-3/valid/images/normal179_png.rf.c8cdcbabe3f6ab31e5abb8ac1289f5f7.jpg: 416x416 1 Normal, 14.4ms\n",
            "image 165/218 /content/Kataract-Object-Detection-3/valid/images/normal200_png.rf.889c01b17f00b97c4a8d11921c3dab57.jpg: 416x416 1 Normal, 14.2ms\n",
            "image 166/218 /content/Kataract-Object-Detection-3/valid/images/normal206_png.rf.48d4ec64ca70acdb2d55f96c0e5df15a.jpg: 416x416 1 Normal, 14.2ms\n",
            "image 167/218 /content/Kataract-Object-Detection-3/valid/images/normal20_jpg.rf.280f3cd613ecd2e56a51b6b494d73b20.jpg: 416x416 1 Normal, 14.2ms\n",
            "image 168/218 /content/Kataract-Object-Detection-3/valid/images/normal20_png.rf.ccc50f780ff2e499ac7b5d49ca834904.jpg: 416x416 1 Normal, 14.1ms\n",
            "image 169/218 /content/Kataract-Object-Detection-3/valid/images/normal212_png.rf.ca2a084b9d33f954826f83fb794b3816.jpg: 416x416 1 Normal, 14.1ms\n",
            "image 170/218 /content/Kataract-Object-Detection-3/valid/images/normal219_png.rf.29e34cc6bd546d0461d03acd63ff6835.jpg: 416x416 1 Normal, 14.1ms\n",
            "image 171/218 /content/Kataract-Object-Detection-3/valid/images/normal21_jpg.rf.378a49169b6896194fac7768e5b1c515.jpg: 416x416 1 Normal, 14.1ms\n",
            "image 172/218 /content/Kataract-Object-Detection-3/valid/images/normal220_png.rf.3161c19fb7dad8e1b83bcddd034e3506.jpg: 416x416 1 Normal, 14.8ms\n",
            "image 173/218 /content/Kataract-Object-Detection-3/valid/images/normal230_png.rf.577e40896c8f86dd037762d52abd057e.jpg: 416x416 1 Normal, 14.1ms\n",
            "image 174/218 /content/Kataract-Object-Detection-3/valid/images/normal233_png.rf.cd4f7fe099f2b6f350feab7d0f5f1c01.jpg: 416x416 1 Normal, 14.1ms\n",
            "image 175/218 /content/Kataract-Object-Detection-3/valid/images/normal242_png.rf.c2ef0970385f4c5d19b599e257843f1b.jpg: 416x416 1 Normal, 14.1ms\n",
            "image 176/218 /content/Kataract-Object-Detection-3/valid/images/normal251_png.rf.d286f59e0c65f1eb5211aa305b1bea55.jpg: 416x416 1 Normal, 14.1ms\n",
            "image 177/218 /content/Kataract-Object-Detection-3/valid/images/normal254_png.rf.e73285443d28dde8501c3f354feb51b8.jpg: 416x416 1 Normal, 14.1ms\n",
            "image 178/218 /content/Kataract-Object-Detection-3/valid/images/normal256_png.rf.0496cf58790800760adcc2c13d8abf30.jpg: 416x416 1 Normal, 14.1ms\n",
            "image 179/218 /content/Kataract-Object-Detection-3/valid/images/normal266_png.rf.ca14deed2a9af3d8a987f91fa42a7ed1.jpg: 416x416 1 Normal, 14.1ms\n",
            "image 180/218 /content/Kataract-Object-Detection-3/valid/images/normal269_png.rf.8e7f7c0f2ca11a929422811d7077cb8c.jpg: 416x416 1 Normal, 14.1ms\n",
            "image 181/218 /content/Kataract-Object-Detection-3/valid/images/normal274_png.rf.168df83727d0c8d4f4185b2485a54dd5.jpg: 416x416 1 Normal, 14.1ms\n",
            "image 182/218 /content/Kataract-Object-Detection-3/valid/images/normal278_png.rf.dd3e5aa1ca367bce9b9e74eb136ecf99.jpg: 416x416 1 Normal, 15.9ms\n",
            "image 183/218 /content/Kataract-Object-Detection-3/valid/images/normal27_jpg.rf.04bd7ad4b84c9941bd6417d4a1fb6b28.jpg: 416x416 1 Normal, 14.1ms\n",
            "image 184/218 /content/Kataract-Object-Detection-3/valid/images/normal284_png.rf.97a22e5d38a63c65cdca8cdd34910b0e.jpg: 416x416 1 Normal, 14.1ms\n",
            "image 185/218 /content/Kataract-Object-Detection-3/valid/images/normal285_png.rf.c43d4a7750024a14c1f646cbc008f560.jpg: 416x416 1 Normal, 14.1ms\n",
            "image 186/218 /content/Kataract-Object-Detection-3/valid/images/normal288_png.rf.de42a8f8e6bb306e0842d73258657e5f.jpg: 416x416 1 Normal, 14.1ms\n",
            "image 187/218 /content/Kataract-Object-Detection-3/valid/images/normal289_png.rf.6750503810526794b80ddc5fd8c904a2.jpg: 416x416 1 Normal, 14.1ms\n",
            "image 188/218 /content/Kataract-Object-Detection-3/valid/images/normal299_png.rf.27ea6847b115e5bbe9ca2062e20a1a6d.jpg: 416x416 1 Normal, 14.1ms\n",
            "image 189/218 /content/Kataract-Object-Detection-3/valid/images/normal29_jpg.rf.f68138db37519ec78374665889384554.jpg: 416x416 1 Normal, 14.2ms\n",
            "image 190/218 /content/Kataract-Object-Detection-3/valid/images/normal29_png.rf.2e56ba2131795c360d42ec65dda6240e.jpg: 416x416 1 Normal, 14.2ms\n",
            "image 191/218 /content/Kataract-Object-Detection-3/valid/images/normal30_png.rf.8b2f4f430b100da2c7d0d14d4ef38e2f.jpg: 416x416 1 Normal, 14.1ms\n",
            "image 192/218 /content/Kataract-Object-Detection-3/valid/images/normal31_jpg.rf.16a5c39ef649324f58cf1e4b6d94815a.jpg: 416x416 1 Normal, 14.1ms\n",
            "image 193/218 /content/Kataract-Object-Detection-3/valid/images/normal39_png.rf.12bb299271d98f6bd7e68ed41e859bb8.jpg: 416x416 1 Normal, 14.2ms\n",
            "image 194/218 /content/Kataract-Object-Detection-3/valid/images/normal3_png.rf.3ceb4613a3d40f610038fca0bd70130d.jpg: 416x416 1 Normal, 14.1ms\n",
            "image 195/218 /content/Kataract-Object-Detection-3/valid/images/normal41_jpg.rf.7d14e7e365f24a887b4e326f9c60a988.jpg: 416x416 1 Normal, 14.1ms\n",
            "image 196/218 /content/Kataract-Object-Detection-3/valid/images/normal47_png.rf.87ec8365561f0bde564bda8f4e2b0935.jpg: 416x416 1 Normal, 14.1ms\n",
            "image 197/218 /content/Kataract-Object-Detection-3/valid/images/normal48_png.rf.8a2d4946bac6012334462a8c381ebb3a.jpg: 416x416 1 Normal, 14.1ms\n",
            "image 198/218 /content/Kataract-Object-Detection-3/valid/images/normal4_png.rf.2df75d102faadd0075b27ceaad6d55ed.jpg: 416x416 1 Normal, 14.1ms\n",
            "image 199/218 /content/Kataract-Object-Detection-3/valid/images/normal51_png.rf.d30361d633f775cd2c87ea3572556cb6.jpg: 416x416 1 Normal, 18.5ms\n",
            "image 200/218 /content/Kataract-Object-Detection-3/valid/images/normal52_jpg.rf.3d8bdbc189dea3ae6342d6d67c277211.jpg: 416x416 1 Normal, 14.1ms\n",
            "image 201/218 /content/Kataract-Object-Detection-3/valid/images/normal53_jpg.rf.7585fa6149b7d68e06d6373c9fdfdbb3.jpg: 416x416 1 Normal, 14.1ms\n",
            "image 202/218 /content/Kataract-Object-Detection-3/valid/images/normal57_jpg.rf.c242daa79fba147381ab7bb9b0569e4d.jpg: 416x416 1 Normal, 14.2ms\n",
            "image 203/218 /content/Kataract-Object-Detection-3/valid/images/normal58_jpg.rf.f11ed1e7b2a71c041c3773d079056196.jpg: 416x416 1 Normal, 14.1ms\n",
            "image 204/218 /content/Kataract-Object-Detection-3/valid/images/normal59_png.rf.ed09f277a5e27f7067cc84c35b17e306.jpg: 416x416 1 Normal, 14.1ms\n",
            "image 205/218 /content/Kataract-Object-Detection-3/valid/images/normal5_png.rf.82ccdbb196133a4224b6f265e207150f.jpg: 416x416 1 Normal, 14.1ms\n",
            "image 206/218 /content/Kataract-Object-Detection-3/valid/images/normal60_jpg.rf.8d5ba7b0b220cecf4392cf520caa28d2.jpg: 416x416 1 Normal, 14.1ms\n",
            "image 207/218 /content/Kataract-Object-Detection-3/valid/images/normal62_jpg.rf.ff867528c465fb67e3783fcd3c578c50.jpg: 416x416 1 Normal, 14.1ms\n",
            "image 208/218 /content/Kataract-Object-Detection-3/valid/images/normal68_jpg.rf.a26368ccd68ae8c4f8f390be4bcb730d.jpg: 416x416 1 Normal, 14.1ms\n",
            "image 209/218 /content/Kataract-Object-Detection-3/valid/images/normal6_jpg.rf.c6580e2b6ee5ebbac675fa9718e93086.jpg: 416x416 1 Normal, 14.1ms\n",
            "image 210/218 /content/Kataract-Object-Detection-3/valid/images/normal6_png.rf.e0ab0fdd57fd19521d73b6ae51bd00bd.jpg: 416x416 1 Normal, 13.5ms\n",
            "image 211/218 /content/Kataract-Object-Detection-3/valid/images/normal76_jpg.rf.fe9ced53934dd5daf0975b287e075d05.jpg: 416x416 1 Normal, 13.6ms\n",
            "image 212/218 /content/Kataract-Object-Detection-3/valid/images/normal76_png.rf.15645bbc6e1a4eae4e462d69377198d8.jpg: 416x416 1 Normal, 13.6ms\n",
            "image 213/218 /content/Kataract-Object-Detection-3/valid/images/normal80_png.rf.864872c644e9652aed94288660e0b79c.jpg: 416x416 1 Normal, 13.3ms\n",
            "image 214/218 /content/Kataract-Object-Detection-3/valid/images/normal85_png.rf.210cce94c88eb23ce2735c1a9b65f288.jpg: 416x416 1 Normal, 13.3ms\n",
            "image 215/218 /content/Kataract-Object-Detection-3/valid/images/normal89_jpg.rf.56eef5fe7c66fa6b95e129dd4c6dd20d.jpg: 416x416 1 Normal, 13.3ms\n",
            "image 216/218 /content/Kataract-Object-Detection-3/valid/images/normal95_jpg.rf.fae527970bee4d0f0688fe8cd2c2ff43.jpg: 416x416 1 Normal, 13.3ms\n",
            "image 217/218 /content/Kataract-Object-Detection-3/valid/images/normal98_jpg.rf.1c7cfc9dcb487131d84185b4eca6ab73.jpg: 416x416 1 Normal, 13.3ms\n",
            "image 218/218 /content/Kataract-Object-Detection-3/valid/images/normal98_png.rf.d73c7b162d061ab1ed1b39a75760b797.jpg: 416x416 1 Normal, 13.3ms\n",
            "Speed: 1.9ms preprocess, 16.0ms inference, 1.6ms postprocess per image at shape (1, 3, 416, 416)\n",
            "Results saved to \u001b[1m/content/drive/MyDrive/cataract-yolo11/exp_50epochs2\u001b[0m\n",
            "218 labels saved to /content/drive/MyDrive/cataract-yolo11/exp_50epochs2/labels\n"
          ]
        }
      ]
    },
    {
      "cell_type": "code",
      "source": [
        "metrics = model.val()\n",
        "print(f\"mAP@[.5:.95]: {metrics.box.map:.4f}\")\n",
        "print(f\"mAP@0.5: {metrics.box.map50:.4f}\")\n",
        "print(f\"Mean Precision: {metrics.box.mp:.4f}\")\n",
        "print(f\"Mean Recall: {metrics.box.mr:.4f}\")\n",
        "print(f\"F1 Score: {(2 * metrics.box.mp * metrics.box.mr) / (metrics.box.mp + metrics.box.mr + 1e-6):.4f}\")\n",
        "print(f\"Accuracy: {metrics.box.mr:.4f}\")"
      ],
      "metadata": {
        "colab": {
          "base_uri": "https://localhost:8080/"
        },
        "id": "DoPOVzuLP8qy",
        "outputId": "a309c65f-5f84-459a-8780-0000b6892dd1"
      },
      "execution_count": null,
      "outputs": [
        {
          "output_type": "stream",
          "name": "stdout",
          "text": [
            "Ultralytics 8.3.169 🚀 Python-3.11.13 torch-2.6.0+cu124 CUDA:0 (Tesla T4, 15095MiB)\n",
            "\u001b[34m\u001b[1mval: \u001b[0mFast image access ✅ (ping: 0.0±0.0 ms, read: 691.3±318.0 MB/s, size: 34.2 KB)\n"
          ]
        },
        {
          "output_type": "stream",
          "name": "stderr",
          "text": [
            "\u001b[34m\u001b[1mval: \u001b[0mScanning /content/Kataract-Object-Detection-3/valid/labels.cache... 218 images, 0 backgrounds, 0 corrupt: 100%|██████████| 218/218 [00:00<?, ?it/s]\n",
            "                 Class     Images  Instances      Box(P          R      mAP50  mAP50-95): 100%|██████████| 14/14 [00:03<00:00,  3.53it/s]\n"
          ]
        },
        {
          "output_type": "stream",
          "name": "stdout",
          "text": [
            "                   all        218        220      0.995      0.995      0.995      0.909\n",
            "              Cataract        119        119       0.99          1      0.995      0.915\n",
            "                Normal        101        101          1       0.99      0.995      0.903\n",
            "Speed: 0.4ms preprocess, 11.9ms inference, 0.0ms loss, 1.8ms postprocess per image\n",
            "Results saved to \u001b[1m/content/drive/MyDrive/cataract-yolo11/exp_50epochs3\u001b[0m\n",
            "mAP@[.5:.95]: 0.9092\n",
            "mAP@0.5: 0.9949\n",
            "Mean Precision: 0.9948\n",
            "Mean Recall: 0.9950\n",
            "F1 Score: 0.9949\n",
            "Accuracy: 0.9950\n"
          ]
        }
      ]
    },
    {
      "cell_type": "code",
      "source": [
        "model.export(format='onnx')"
      ],
      "metadata": {
        "colab": {
          "base_uri": "https://localhost:8080/",
          "height": 385
        },
        "id": "k0NItB7COvUE",
        "outputId": "da6a2c26-0aec-4765-d652-91ab19e1c752"
      },
      "execution_count": null,
      "outputs": [
        {
          "output_type": "stream",
          "name": "stdout",
          "text": [
            "Ultralytics 8.3.169 🚀 Python-3.11.13 torch-2.6.0+cu124 CPU (Intel Xeon 2.30GHz)\n",
            "💡 ProTip: Export to OpenVINO format for best performance on Intel hardware. Learn more at https://docs.ultralytics.com/integrations/openvino/\n",
            "\n",
            "\u001b[34m\u001b[1mPyTorch:\u001b[0m starting from '/content/drive/MyDrive/cataract-yolo11/exp_50epochs/weights/best.pt' with input shape (1, 3, 416, 416) BCHW and output shape(s) (1, 6, 3549) (38.6 MB)\n",
            "\u001b[31m\u001b[1mrequirements:\u001b[0m Ultralytics requirements ['onnx>=1.12.0,<1.18.0', 'onnxslim>=0.1.59', 'onnxruntime-gpu'] not found, attempting AutoUpdate...\n",
            "\n",
            "\u001b[31m\u001b[1mrequirements:\u001b[0m AutoUpdate success ✅ 7.6s\n",
            "WARNING ⚠️ \u001b[31m\u001b[1mrequirements:\u001b[0m \u001b[1mRestart runtime or rerun command for updates to take effect\u001b[0m\n",
            "\n",
            "\n",
            "\u001b[34m\u001b[1mONNX:\u001b[0m starting export with onnx 1.17.0 opset 19...\n",
            "\u001b[34m\u001b[1mONNX:\u001b[0m slimming with onnxslim 0.1.61...\n",
            "\u001b[34m\u001b[1mONNX:\u001b[0m export success ✅ 11.7s, saved as '/content/drive/MyDrive/cataract-yolo11/exp_50epochs/weights/best.onnx' (76.6 MB)\n",
            "\n",
            "Export complete (12.9s)\n",
            "Results saved to \u001b[1m/content/drive/MyDrive/cataract-yolo11/exp_50epochs/weights\u001b[0m\n",
            "Predict:         yolo predict task=detect model=/content/drive/MyDrive/cataract-yolo11/exp_50epochs/weights/best.onnx imgsz=416  \n",
            "Validate:        yolo val task=detect model=/content/drive/MyDrive/cataract-yolo11/exp_50epochs/weights/best.onnx imgsz=416 data=/content/Kataract-Object-Detection-3/data.yaml  \n",
            "Visualize:       https://netron.app\n"
          ]
        },
        {
          "output_type": "execute_result",
          "data": {
            "text/plain": [
              "'/content/drive/MyDrive/cataract-yolo11/exp_50epochs/weights/best.onnx'"
            ],
            "application/vnd.google.colaboratory.intrinsic+json": {
              "type": "string"
            }
          },
          "metadata": {},
          "execution_count": 8
        }
      ]
    }
  ]
}